{
 "cells": [
  {
   "cell_type": "markdown",
   "id": "ecde1b95",
   "metadata": {},
   "source": [
    "<h1>Importing Libraries</h1>"
   ]
  },
  {
   "cell_type": "code",
   "execution_count": 573,
   "id": "7ab6156c-69a0-4b92-af1b-778f44c7b8ab",
   "metadata": {
    "tags": []
   },
   "outputs": [],
   "source": [
    "import pandas as pd\n",
    "import matplotlib.pyplot as plt\n",
    "import numpy as np\n",
    "import seaborn as sns"
   ]
  },
  {
   "cell_type": "markdown",
   "id": "b70c80b1",
   "metadata": {},
   "source": [
    "<h1>Importing Data</h1>"
   ]
  },
  {
   "cell_type": "code",
   "execution_count": 574,
   "id": "45269c21-cde3-460a-943f-7539bcaa8873",
   "metadata": {},
   "outputs": [],
   "source": [
    "customers_info = pd.read_csv('dim_customers.csv')\n",
    "products_info = pd.read_csv('dim_products.csv', encoding='latin-1')\n",
    "sales_info = pd.read_csv('fact_sales.csv')\n",
    "state_region = pd.read_csv('state_region_mapping.csv')"
   ]
  },
  {
   "cell_type": "markdown",
   "id": "943de07a",
   "metadata": {},
   "source": [
    "<h1>Preprocessing</h1>"
   ]
  },
  {
   "cell_type": "markdown",
   "id": "a64d1747",
   "metadata": {},
   "source": [
    "<h3>Looking at the data</h3> "
   ]
  },
  {
   "cell_type": "code",
   "execution_count": 575,
   "id": "7ff1f745-4c7b-4e15-b186-30384e3bf6e2",
   "metadata": {
    "scrolled": true
   },
   "outputs": [
    {
     "name": "stdout",
     "output_type": "stream",
     "text": [
      "   Customer ID    Order City Order Postal Order State  Latitude  Longitude\n",
      "0        18287  Rock Springs   82901-7321          WY   41.5869  -109.2048\n",
      "1        18283       JACKSON   83001-9460          WY   43.4800  -110.7618\n",
      "2        18282      Greybull        82426          WY   44.4892  -108.0562\n",
      "3        18281      EVANSTON   82930-4706          WY   41.2680  -110.9633\n",
      "4        18280      CHEYENNE   82001-7901          WY   41.1400  -104.8202\n",
      "       Order City Order Postal Order State\n",
      "count        4372         4372        4372\n",
      "unique       2657         4239         206\n",
      "top      NEW YORK        99802          CA\n",
      "freq           40            3         528\n",
      "        Customer ID     Latitude    Longitude\n",
      "count   4372.000000  4282.000000  4282.000000\n",
      "mean   15299.677722    37.785725   -92.339507\n",
      "std     1722.390705     5.304073    17.368989\n",
      "min    12346.000000    19.920000  -158.185900\n",
      "25%    13812.750000    33.987950  -105.124400\n",
      "50%    15300.500000    38.882300   -86.635150\n",
      "75%    16778.250000    41.360600   -77.968400\n",
      "max    18287.000000    61.216300   -68.569100\n",
      "<class 'pandas.core.frame.DataFrame'>\n",
      "RangeIndex: 4372 entries, 0 to 4371\n",
      "Data columns (total 6 columns):\n",
      " #   Column        Non-Null Count  Dtype  \n",
      "---  ------        --------------  -----  \n",
      " 0   Customer ID   4372 non-null   int64  \n",
      " 1   Order City    4372 non-null   object \n",
      " 2   Order Postal  4372 non-null   object \n",
      " 3   Order State   4372 non-null   object \n",
      " 4   Latitude      4282 non-null   float64\n",
      " 5   Longitude     4282 non-null   float64\n",
      "dtypes: float64(2), int64(1), object(3)\n",
      "memory usage: 205.1+ KB\n",
      "None\n"
     ]
    }
   ],
   "source": [
    "print(customers_info.head())\n",
    "print(customers_info.describe(include=['O']))\n",
    "print(customers_info.describe())\n",
    "print(customers_info.info())"
   ]
  },
  {
   "cell_type": "code",
   "execution_count": 576,
   "id": "906f644b-81cd-4fcd-acff-2488bebe7aa5",
   "metadata": {
    "scrolled": true
   },
   "outputs": [
    {
     "name": "stdout",
     "output_type": "stream",
     "text": [
      "  Stock Code  Weight  Landed Cost  Shipping_Cost_1000_mile  \\\n",
      "0      22423    40.0         35.0                     20.0   \n",
      "1     85123A     2.0          6.0                      5.0   \n",
      "2      47566     6.0         18.0                     12.0   \n",
      "3     85099B     2.0          5.0                      4.0   \n",
      "4      23084     2.0          6.0                      6.0   \n",
      "\n",
      "                                         Description     Category  \n",
      "0  Taste of the Wild High Prairie Grain-Free Dry ...         Food  \n",
      "1                                 Dog and Puppy Pads  Disposables  \n",
      "2  Memory Foam Pet Beds for Small, Medium, and La...  Disposables  \n",
      "3                          Earth Rated Dog Poop Bags  Disposables  \n",
      "4                         Templation Soft Cat Treats     Pet Food  \n",
      "          Weight  Landed Cost  Shipping_Cost_1000_mile\n",
      "count  20.000000    20.000000                20.000000\n",
      "mean    5.025000    14.375000                 7.175000\n",
      "std     9.051715    10.509238                 3.863714\n",
      "min     0.500000     2.500000                 2.500000\n",
      "25%     1.000000     6.000000                 5.000000\n",
      "50%     2.000000    10.500000                 6.000000\n",
      "75%     5.250000    20.500000                 9.000000\n",
      "max    40.000000    36.000000                20.000000\n",
      "<class 'pandas.core.frame.DataFrame'>\n",
      "RangeIndex: 20 entries, 0 to 19\n",
      "Data columns (total 6 columns):\n",
      " #   Column                   Non-Null Count  Dtype  \n",
      "---  ------                   --------------  -----  \n",
      " 0   Stock Code               20 non-null     object \n",
      " 1   Weight                   20 non-null     float64\n",
      " 2   Landed Cost              20 non-null     float64\n",
      " 3   Shipping_Cost_1000_mile  20 non-null     float64\n",
      " 4   Description              20 non-null     object \n",
      " 5   Category                 20 non-null     object \n",
      "dtypes: float64(3), object(3)\n",
      "memory usage: 1.1+ KB\n",
      "None\n"
     ]
    }
   ],
   "source": [
    "print(products_info.head())\n",
    "print(products_info.describe())\n",
    "print(products_info.info())"
   ]
  },
  {
   "cell_type": "code",
   "execution_count": 577,
   "id": "c403aca0-b8e0-447d-84da-1318a3beb3bc",
   "metadata": {
    "scrolled": true
   },
   "outputs": [
    {
     "name": "stdout",
     "output_type": "stream",
     "text": [
      "  Transaction Date  Customer ID  \\\n",
      "0   12/1/2020 8:26      17850.0   \n",
      "1   12/1/2020 8:34      13047.0   \n",
      "2   12/1/2020 8:34      13047.0   \n",
      "3   12/1/2020 9:00      13748.0   \n",
      "4   12/1/2020 9:02      17850.0   \n",
      "\n",
      "                                         Description Stock Code  Invoice No  \\\n",
      "0                                 Dog and Puppy Pads     85123A    536365.0   \n",
      "1                                Pet Odor Eliminator      84879    536367.0   \n",
      "2                      Rechargeable Pet Nail Grinder      22960    536368.0   \n",
      "3  Litter Slide Multi-Cat Scented Clumping Clay C...      22086    536371.0   \n",
      "4                                 Dog and Puppy Pads     85123A    536373.0   \n",
      "\n",
      "   Quantity   Sales  Unit Price  \n",
      "0         1   15.30       15.30  \n",
      "1         6   60.84       10.14  \n",
      "2         1   25.50       25.50  \n",
      "3        14  214.20       15.30  \n",
      "4         1   15.30       15.30  \n",
      "       Customer ID     Invoice No      Quantity         Sales    Unit Price\n",
      "count  20649.00000   24404.000000  25065.000000  25065.000000  25065.000000\n",
      "mean   15288.80217  559952.514793      2.981408     61.082257     28.771337\n",
      "std     1692.08989   12755.865862     11.905880    289.275933     41.807294\n",
      "min    12347.00000  536365.000000   -321.000000  -4911.300000      0.000000\n",
      "25%    13884.00000  549568.000000      1.000000     20.280000     12.480000\n",
      "50%    15152.00000  560223.500000      1.000000     29.700000     23.700000\n",
      "75%    16762.00000  570871.000000      2.000000     59.400000     29.700000\n",
      "max    18287.00000  581585.000000    717.000000  38970.000000   3897.000000\n",
      "<class 'pandas.core.frame.DataFrame'>\n",
      "RangeIndex: 25065 entries, 0 to 25064\n",
      "Data columns (total 8 columns):\n",
      " #   Column            Non-Null Count  Dtype  \n",
      "---  ------            --------------  -----  \n",
      " 0   Transaction Date  25065 non-null  object \n",
      " 1   Customer ID       20649 non-null  float64\n",
      " 2   Description       25065 non-null  object \n",
      " 3   Stock Code        25065 non-null  object \n",
      " 4   Invoice No        24404 non-null  float64\n",
      " 5   Quantity          25065 non-null  int64  \n",
      " 6   Sales             25065 non-null  float64\n",
      " 7   Unit Price        25065 non-null  float64\n",
      "dtypes: float64(4), int64(1), object(3)\n",
      "memory usage: 1.5+ MB\n",
      "None\n"
     ]
    }
   ],
   "source": [
    "print(sales_info.head())\n",
    "print(sales_info.describe())\n",
    "print(sales_info.info())"
   ]
  },
  {
   "cell_type": "code",
   "execution_count": 578,
   "id": "4ed82a98-d49d-44fc-aa3a-746c1c238bf8",
   "metadata": {
    "scrolled": true
   },
   "outputs": [
    {
     "name": "stdout",
     "output_type": "stream",
     "text": [
      "  Order State State Abbreviations Region                State\n",
      "0          AE                  AE  Other  Armed Forces Europe\n",
      "1          ak                  AK  Other               Alaska\n",
      "2          AK                  AK  Other               Alaska\n",
      "3          AL                  AL   East              Alabama\n",
      "4     ALABAMA                  AL   East              Alabama\n",
      "       Order State State Abbreviations Region       State\n",
      "count          192                 192    192         192\n",
      "unique         192                  54      4          54\n",
      "top             AE                  CA   East  California\n",
      "freq             1                   7     76           7\n",
      "<class 'pandas.core.frame.DataFrame'>\n",
      "RangeIndex: 192 entries, 0 to 191\n",
      "Data columns (total 4 columns):\n",
      " #   Column               Non-Null Count  Dtype \n",
      "---  ------               --------------  ----- \n",
      " 0   Order State          192 non-null    object\n",
      " 1   State Abbreviations  192 non-null    object\n",
      " 2   Region               192 non-null    object\n",
      " 3   State                192 non-null    object\n",
      "dtypes: object(4)\n",
      "memory usage: 6.1+ KB\n",
      "None\n"
     ]
    }
   ],
   "source": [
    "print(state_region.head())\n",
    "print(state_region.describe())\n",
    "print(state_region.info())"
   ]
  },
  {
   "cell_type": "code",
   "execution_count": 579,
   "id": "1e30139e-b157-497a-a566-fc0319554d0e",
   "metadata": {
    "scrolled": true
   },
   "outputs": [
    {
     "name": "stdout",
     "output_type": "stream",
     "text": [
      "       Transaction Date  Customer ID                 Description Stock Code  \\\n",
      "6730    4/18/2021 13:08      15749.0          Dog and Puppy Pads     85123A   \n",
      "1330    12/17/2020 9:37      16013.0          Dog and Puppy Pads     85123A   \n",
      "16067    9/9/2021 10:57          NaN  Templation Soft Cat Treats      23084   \n",
      "15228   8/26/2021 15:08          NaN  Templation Soft Cat Treats      23084   \n",
      "18685  10/11/2021 11:01      16029.0   Earth Rated Dog Poop Bags     85099B   \n",
      "\n",
      "       Invoice No  Quantity   Sales  Unit Price  \n",
      "6730          NaN      -321 -4911.3       15.30  \n",
      "1330          NaN       -83 -1269.9       15.30  \n",
      "16067    566122.0       -80     0.0        0.00  \n",
      "15228    564667.0       -66     0.0        0.00  \n",
      "18685         NaN       -50  -522.0       10.44  \n"
     ]
    }
   ],
   "source": [
    "sorted_sales = sales_info.sort_values('Quantity')\n",
    "print(sorted_sales.head())"
   ]
  },
  {
   "cell_type": "code",
   "execution_count": 580,
   "id": "8e9d9541-1935-4fa0-a33d-1381c0200c88",
   "metadata": {
    "scrolled": true
   },
   "outputs": [
    {
     "name": "stdout",
     "output_type": "stream",
     "text": [
      "      Transaction Date  Customer ID  \\\n",
      "6730   4/18/2021 13:08      15749.0   \n",
      "14925  8/22/2021 17:10      17949.0   \n",
      "17999  10/3/2021 16:49      14031.0   \n",
      "1330   12/17/2020 9:37      16013.0   \n",
      "5890   3/31/2021 17:16      14031.0   \n",
      "\n",
      "                                             Description Stock Code  \\\n",
      "6730                                  Dog and Puppy Pads     85123A   \n",
      "14925  Taste of the Wild High Prairie Grain-Free Dry ...      22423   \n",
      "17999               Purina Pro Plan Adult Sensitive Skin      23284   \n",
      "1330                                  Dog and Puppy Pads     85123A   \n",
      "5890   Taste of the Wild High Prairie Grain-Free Dry ...      22423   \n",
      "\n",
      "       Invoice No  Quantity    Sales  Unit Price  \n",
      "6730          NaN      -321 -4911.30       15.30  \n",
      "14925         NaN       -25 -1642.50       65.70  \n",
      "17999         NaN       -33 -1401.84       42.48  \n",
      "1330          NaN       -83 -1269.90       15.30  \n",
      "5890          NaN        -8  -525.60       65.70  \n"
     ]
    }
   ],
   "source": [
    "sorted_sales = sales_info.sort_values('Sales')\n",
    "print(sorted_sales.head())"
   ]
  },
  {
   "cell_type": "code",
   "execution_count": 581,
   "id": "37bba21c-1ae2-428d-80bb-31429d9f6941",
   "metadata": {},
   "outputs": [
    {
     "data": {
      "text/plain": [
       "str"
      ]
     },
     "execution_count": 581,
     "metadata": {},
     "output_type": "execute_result"
    }
   ],
   "source": [
    "type(sales_info.iloc[0,0])"
   ]
  },
  {
   "cell_type": "markdown",
   "id": "163b60bd",
   "metadata": {},
   "source": [
    "<h3>Finding Nulls</h3>"
   ]
  },
  {
   "cell_type": "code",
   "execution_count": 582,
   "id": "7befc161-bb01-4884-bd0d-3973dd14d8cc",
   "metadata": {
    "scrolled": true
   },
   "outputs": [
    {
     "data": {
      "text/plain": [
       "Transaction Date       0\n",
       "Customer ID         4416\n",
       "Description            0\n",
       "Stock Code             0\n",
       "Invoice No           661\n",
       "Quantity               0\n",
       "Sales                  0\n",
       "Unit Price             0\n",
       "dtype: int64"
      ]
     },
     "execution_count": 582,
     "metadata": {},
     "output_type": "execute_result"
    }
   ],
   "source": [
    "sales_info.isnull().sum()"
   ]
  },
  {
   "cell_type": "markdown",
   "id": "c8a6348e",
   "metadata": {},
   "source": [
    "<h3>Changing Column Data Type</h3>"
   ]
  },
  {
   "cell_type": "code",
   "execution_count": 583,
   "id": "a2259c9a-d646-4506-ba13-d1fe989b6592",
   "metadata": {
    "scrolled": true
   },
   "outputs": [
    {
     "name": "stdout",
     "output_type": "stream",
     "text": [
      "                    Transaction Date  Customer ID     Invoice No  \\\n",
      "count                          25065  20649.00000   24404.000000   \n",
      "mean   2021-07-05 08:38:54.266906112  15288.80217  559952.514793   \n",
      "min              2020-12-01 08:26:00  12347.00000  536365.000000   \n",
      "25%              2021-04-08 12:56:00  13884.00000  549568.000000   \n",
      "50%              2021-07-15 11:45:00  15152.00000  560223.500000   \n",
      "75%              2021-10-12 12:47:00  16762.00000  570871.000000   \n",
      "max              2021-12-09 12:31:00  18287.00000  581585.000000   \n",
      "std                              NaN   1692.08989   12755.865862   \n",
      "\n",
      "           Quantity         Sales    Unit Price  \n",
      "count  25065.000000  25065.000000  25065.000000  \n",
      "mean       2.981408     61.082257     28.771337  \n",
      "min     -321.000000  -4911.300000      0.000000  \n",
      "25%        1.000000     20.280000     12.480000  \n",
      "50%        1.000000     29.700000     23.700000  \n",
      "75%        2.000000     59.400000     29.700000  \n",
      "max      717.000000  38970.000000   3897.000000  \n",
      "std       11.905880    289.275933     41.807294  \n"
     ]
    }
   ],
   "source": [
    "# changed the transcation date column data type into datetime data type to make it easier to analyze it\n",
    "sales_info['Transaction Date'] = pd.to_datetime(sales_info['Transaction Date'])\n",
    "print(sales_info.describe())"
   ]
  },
  {
   "cell_type": "markdown",
   "id": "b88c2b30",
   "metadata": {},
   "source": [
    "<h3>Dealing with nulls and unusal values</h3>"
   ]
  },
  {
   "cell_type": "code",
   "execution_count": 584,
   "id": "bfb56693-ec21-4064-9bff-ff657bf614fb",
   "metadata": {},
   "outputs": [
    {
     "name": "stdout",
     "output_type": "stream",
     "text": [
      "       Transaction Date  Customer ID  \\\n",
      "54  2020-12-01 12:38:00      17897.0   \n",
      "195 2020-12-02 17:27:00      15384.0   \n",
      "448 2020-12-06 12:55:00      14487.0   \n",
      "454 2020-12-06 13:17:00      16550.0   \n",
      "491 2020-12-06 15:09:00      16861.0   \n",
      "\n",
      "                                           Description Stock Code  Invoice No  \\\n",
      "54                       Rechargeable Pet Nail Grinder      22960         NaN   \n",
      "195            Sheba Perfect Portions Pat Wet Cat Food      22197         NaN   \n",
      "448  Taste of the Wild High Prairie Grain-Free Dry ...      22423         NaN   \n",
      "454            Sheba Perfect Portions Pat Wet Cat Food      22197         NaN   \n",
      "491  Litter Slide Multi-Cat Scented Clumping Clay C...      22086         NaN   \n",
      "\n",
      "     Quantity  Sales  Unit Price  \n",
      "54         -1  -25.5        25.5  \n",
      "195         0    0.0         5.1  \n",
      "448         0    0.0        76.5  \n",
      "454         0    0.0         5.1  \n",
      "491        -1  -17.7        17.7  \n",
      "      Transaction Date  Customer ID  \\\n",
      "40 2020-12-01 12:22:00      14849.0   \n",
      "41 2020-12-01 12:23:00      14849.0   \n",
      "42 2020-12-01 12:23:00      17968.0   \n",
      "43 2020-12-01 12:23:00      17968.0   \n",
      "44 2020-12-01 12:23:00      17968.0   \n",
      "45 2020-12-01 12:23:00      17968.0   \n",
      "46 2020-12-01 12:23:00      17968.0   \n",
      "47 2020-12-01 12:23:00      17968.0   \n",
      "48 2020-12-01 12:27:00      16210.0   \n",
      "49 2020-12-01 12:27:00      16210.0   \n",
      "50 2020-12-01 12:31:00      17897.0   \n",
      "51 2020-12-01 12:36:00      16552.0   \n",
      "52 2020-12-01 12:36:00      16552.0   \n",
      "53 2020-12-01 12:36:00      16552.0   \n",
      "54 2020-12-01 12:38:00      17897.0   \n",
      "55 2020-12-01 12:43:00      14729.0   \n",
      "56 2020-12-01 12:43:00      14729.0   \n",
      "57 2020-12-01 12:49:00      15012.0   \n",
      "58 2020-12-01 12:54:00      14078.0   \n",
      "59 2020-12-01 12:58:00      14001.0   \n",
      "60 2020-12-01 13:17:00      15525.0   \n",
      "61 2020-12-01 13:17:00      15525.0   \n",
      "62 2020-12-01 13:21:00      17905.0   \n",
      "63 2020-12-01 13:23:00      15485.0   \n",
      "64 2020-12-01 13:24:00      12433.0   \n",
      "65 2020-12-01 13:24:00      12433.0   \n",
      "66 2020-12-01 13:45:00      18144.0   \n",
      "67 2020-12-01 13:51:00      15922.0   \n",
      "68 2020-12-01 13:54:00      14594.0   \n",
      "69 2020-12-01 14:03:00      15165.0   \n",
      "70 2020-12-01 14:03:00      15165.0   \n",
      "71 2020-12-01 14:11:00      16456.0   \n",
      "72 2020-12-01 14:11:00      16456.0   \n",
      "73 2020-12-01 14:11:00      16456.0   \n",
      "74 2020-12-01 14:32:00          NaN   \n",
      "75 2020-12-01 14:32:00          NaN   \n",
      "76 2020-12-01 14:32:00          NaN   \n",
      "77 2020-12-01 14:32:00          NaN   \n",
      "78 2020-12-01 14:32:00          NaN   \n",
      "79 2020-12-01 14:32:00          NaN   \n",
      "\n",
      "                                          Description Stock Code  Invoice No  \\\n",
      "40                                Pet Odor Eliminator      84879    536460.0   \n",
      "41                      Rechargeable Pet Nail Grinder      22960    536466.0   \n",
      "42                          Earth Rated Dog Poop Bags     85099B    536464.0   \n",
      "43  Litter Slide Multi-Cat Scented Clumping Clay C...      22086    536464.0   \n",
      "44     Milk-Bone MaroSnacks Dog Treats with Real Bone      22386    536464.0   \n",
      "45                                Pet Odor Eliminator      84879    536464.0   \n",
      "46                      Rechargeable Pet Nail Grinder      22960    536464.0   \n",
      "47            Sheba Perfect Portions Pat Wet Cat Food      22197    536464.0   \n",
      "48                                    Canned Cat Food      21137    536477.0   \n",
      "49  Taste of the Wild High Prairie Grain-Free Dry ...      22423    536477.0   \n",
      "50                      Rechargeable Pet Nail Grinder      22960    536488.0   \n",
      "51                                 Dog and Puppy Pads     85123A    536502.0   \n",
      "52                                Pet Odor Eliminator      84879    536502.0   \n",
      "53  Taste of the Wild High Prairie Grain-Free Dry ...      22423    536502.0   \n",
      "54                      Rechargeable Pet Nail Grinder      22960         NaN   \n",
      "55                                 Dog and Puppy Pads     85123A    536520.0   \n",
      "56            Sheba Perfect Portions Pat Wet Cat Food      22197    536520.0   \n",
      "57                          Earth Rated Dog Poop Bags     85099B    536522.0   \n",
      "58  Taste of the Wild High Prairie Grain-Free Dry ...      22423    536525.0   \n",
      "59                          Earth Rated Dog Poop Bags     85099B    536526.0   \n",
      "60                      Rechargeable Pet Nail Grinder      22960    536528.0   \n",
      "61  Taste of the Wild High Prairie Grain-Free Dry ...      22423    536528.0   \n",
      "62  Taste of the Wild High Prairie Grain-Free Dry ...      22423    536530.0   \n",
      "63  Litter Slide Multi-Cat Scented Clumping Clay C...      22086    536531.0   \n",
      "64  ChomChom Pet Hair Remover - Reusable Cat and D...      22114    536532.0   \n",
      "65            Sheba Perfect Portions Pat Wet Cat Food      22197    536532.0   \n",
      "66                                Pet Odor Eliminator      84879    536536.0   \n",
      "67  Taste of the Wild High Prairie Grain-Free Dry ...      22423    536537.0   \n",
      "68  Litter Slide Multi-Cat Scented Clumping Clay C...      22086    536538.0   \n",
      "69  ChomChom Pet Hair Remover - Reusable Cat and D...      22114    536539.0   \n",
      "70  Taste of the Wild High Prairie Grain-Free Dry ...      22423    536539.0   \n",
      "71                                 Dog and Puppy Pads     85123A    536542.0   \n",
      "72                          Earth Rated Dog Poop Bags     85099B    536542.0   \n",
      "73     Milk-Bone MaroSnacks Dog Treats with Real Bone      22386    536542.0   \n",
      "74  ChomChom Pet Hair Remover - Reusable Cat and D...      22114    536544.0   \n",
      "75                                 Dog and Puppy Pads     85123A    536544.0   \n",
      "76                          Earth Rated Dog Poop Bags     85099B    536544.0   \n",
      "77  Litter Slide Multi-Cat Scented Clumping Clay C...      22086    536544.0   \n",
      "78                                 Pet Grooming Brush      20725    536544.0   \n",
      "79                     ProBiotic Supplements for Dogs      79321    536544.0   \n",
      "\n",
      "    Quantity    Sales  Unit Price  \n",
      "40         4    40.56       10.14  \n",
      "41         1    25.50       25.50  \n",
      "42         1    11.70       11.70  \n",
      "43         1    17.70       17.70  \n",
      "44         1    11.70       11.70  \n",
      "45         2    20.28       10.14  \n",
      "46         1    25.50       25.50  \n",
      "47         1     5.10        5.10  \n",
      "48        80  1627.20       20.34  \n",
      "49         3   197.10       65.70  \n",
      "50         2    51.00       25.50  \n",
      "51         1    17.70       17.70  \n",
      "52         3    30.42       10.14  \n",
      "53         1    76.50       76.50  \n",
      "54        -1   -25.50       25.50  \n",
      "55         1    17.70       17.70  \n",
      "56         1     5.10        5.10  \n",
      "57         1    11.70       11.70  \n",
      "58         1    76.50       76.50  \n",
      "59         2    23.40       11.70  \n",
      "60         1    25.50       25.50  \n",
      "61         1    76.50       76.50  \n",
      "62         1    76.50       76.50  \n",
      "63        14   214.20       15.30  \n",
      "64         2    47.40       23.70  \n",
      "65        12    61.20        5.10  \n",
      "66        14   141.96       10.14  \n",
      "67         1    76.50       76.50  \n",
      "68         1    17.70       17.70  \n",
      "69         1    23.70       23.70  \n",
      "70         1    76.50       76.50  \n",
      "71         6   106.20       17.70  \n",
      "72         7    81.90       11.70  \n",
      "73         5    58.50       11.70  \n",
      "74         1    50.82       50.82  \n",
      "75         1    35.46       35.46  \n",
      "76         1    25.26       25.26  \n",
      "77         6   212.76       35.46  \n",
      "78         1    25.26       25.26  \n",
      "79         1    61.02       61.02  \n",
      "653\n",
      "Unit Price\n",
      "76.50    103\n",
      "29.70     96\n",
      "25.50     77\n",
      "65.70     77\n",
      "12.48     48\n",
      "9.90      38\n",
      "5.10      35\n",
      "17.70     30\n",
      "10.74     23\n",
      "15.30     22\n",
      "22.50     21\n",
      "4.32      15\n",
      "10.14     12\n",
      "8.70      12\n",
      "11.70      8\n",
      "47.70      7\n",
      "35.70      7\n",
      "24.90      6\n",
      "40.50      4\n",
      "34.50      3\n",
      "49.50      3\n",
      "20.34      2\n",
      "23.70      2\n",
      "42.48      2\n",
      "22.44      2\n",
      "10.44      2\n",
      "47.40      1\n",
      "38.70      1\n",
      "49.74      1\n",
      "10.56      1\n",
      "Name: count, dtype: int64\n",
      "Quantity\n",
      " 0      497\n",
      "-1       85\n",
      "-2       22\n",
      "-16      13\n",
      "-4        7\n",
      "-3        6\n",
      "-8        5\n",
      "-6        5\n",
      "-5        4\n",
      "-33       4\n",
      "-10       2\n",
      "-20       2\n",
      "-23       1\n",
      "-50       1\n",
      "-9        1\n",
      "-36       1\n",
      "-321      1\n",
      "-25       1\n",
      "-12       1\n",
      "-83       1\n",
      "-7        1\n",
      "Name: count, dtype: int64\n",
      "Number of zero or negative quantity and missing invoice number: 661\n",
      "Number of zero or negative quantity in the dataset: 677\n",
      "Number of missing invoice number: 661\n"
     ]
    }
   ],
   "source": [
    "# this means that most of the negative quantities happened when there was no invoice number \n",
    "# and all null invoice number happened when the quantity was negative or zero\n",
    "# or it was defect product so it was not prepared or delivered or something like this\n",
    "null_invoice = sales_info['Invoice No'].isnull()\n",
    "print(sales_info[null_invoice].head())\n",
    "print(sales_info[40:80])\n",
    "print(sales_info[null_invoice]['Customer ID'].value_counts().sum())\n",
    "print(sales_info[null_invoice]['Unit Price'].value_counts())\n",
    "print(sales_info[null_invoice]['Quantity'].value_counts())\n",
    "print(\"Number of zero or negative quantity and missing invoice number:\", sales_info[null_invoice]['Quantity'].value_counts().sum())\n",
    "print(\"Number of zero or negative quantity in the dataset:\", len(sales_info[sales_info['Quantity'] <= 0]))\n",
    "print(\"Number of missing invoice number:\", len(sales_info[null_invoice]))"
   ]
  },
  {
   "cell_type": "code",
   "execution_count": 585,
   "id": "b935c6f5-886b-435d-8ca3-8f7863d9720f",
   "metadata": {
    "scrolled": true
   },
   "outputs": [
    {
     "name": "stdout",
     "output_type": "stream",
     "text": [
      "         Transaction Date  Customer ID  \\\n",
      "538   2020-12-07 11:48:00          NaN   \n",
      "762   2020-12-09 12:11:00          NaN   \n",
      "796   2020-12-09 14:10:00          NaN   \n",
      "1538  2020-12-21 13:45:00      14911.0   \n",
      "1573  2020-12-21 15:40:00          NaN   \n",
      "...                   ...          ...   \n",
      "18067 2021-10-04 14:14:00          NaN   \n",
      "18150 2021-10-05 11:06:00          NaN   \n",
      "19043 2021-10-14 16:25:00          NaN   \n",
      "21515 2021-11-10 18:20:00          NaN   \n",
      "21561 2021-11-11 10:21:00          NaN   \n",
      "\n",
      "                                             Description Stock Code  \\\n",
      "538                            Indoor Pet Camera (Wi-Fi)      22502   \n",
      "762    ChomChom Pet Hair Remover - Reusable Cat and D...      22114   \n",
      "796    Taste of the Wild High Prairie Grain-Free Dry ...      22423   \n",
      "1538   Taste of the Wild High Prairie Grain-Free Dry ...      22423   \n",
      "1573   ChomChom Pet Hair Remover - Reusable Cat and D...      22114   \n",
      "...                                                  ...        ...   \n",
      "18067                         Templation Soft Cat Treats      23084   \n",
      "18150                         Templation Soft Cat Treats      23084   \n",
      "19043                         Templation Soft Cat Treats      23084   \n",
      "21515                                 Dog and Puppy Pads     85123A   \n",
      "21561   Purina ONE SmartBlend Natural Adult Chicken 10lb      23298   \n",
      "\n",
      "       Invoice No  Quantity  Sales  Unit Price  \n",
      "538      537534.0         5    0.0         0.0  \n",
      "762      538004.0        24    0.0         0.0  \n",
      "796      538072.0        -2    0.0         0.0  \n",
      "1538     539722.0         2    0.0         0.0  \n",
      "1573     539750.0         1    0.0         0.0  \n",
      "...           ...       ...    ...         ...  \n",
      "18067    569517.0         3    0.0         0.0  \n",
      "18150    569578.0         1    0.0         0.0  \n",
      "19043    571249.0         1    0.0         0.0  \n",
      "21515    575722.0       -42    0.0         0.0  \n",
      "21561    575748.0         1    0.0         0.0  \n",
      "\n",
      "[63 rows x 8 columns]\n",
      "Empty DataFrame\n",
      "Columns: [Transaction Date, Customer ID, Description, Stock Code, Invoice No, Quantity, Sales, Unit Price]\n",
      "Index: []\n"
     ]
    }
   ],
   "source": [
    "# print(sales_info[(sales_info['Invoice No'].notnull()) & (sales_info['Quantity'] <= 0)])\n",
    "# since the unit price is 0 then the sales is also 0 and most of them had null customer id therefore I removed them from\n",
    "# the data and assigned the new dataset to cl_sales_info\n",
    "print(sales_info[sales_info['Unit Price'] == 0])\n",
    "cl_sales_info = sales_info[sales_info['Unit Price'] != 0]\n",
    "print(cl_sales_info[cl_sales_info['Unit Price'] == 0])"
   ]
  },
  {
   "cell_type": "code",
   "execution_count": 586,
   "id": "121d0e8f-fc58-46a5-9e54-710c9c834795",
   "metadata": {
    "scrolled": true
   },
   "outputs": [
    {
     "name": "stdout",
     "output_type": "stream",
     "text": [
      "0\n",
      "1\n",
      "2\n",
      "3\n",
      "4\n",
      "5\n",
      "6\n",
      "7\n",
      "8\n",
      "9\n",
      "10\n",
      "11\n",
      "12\n",
      "13\n",
      "14\n",
      "15\n",
      "16\n",
      "17\n",
      "18\n",
      "19\n",
      "     Transaction Date  Customer ID  \\\n",
      "0 2020-12-01 08:26:00      17850.0   \n",
      "1 2020-12-01 08:34:00      13047.0   \n",
      "2 2020-12-01 08:34:00      13047.0   \n",
      "3 2020-12-01 09:00:00      13748.0   \n",
      "4 2020-12-01 09:02:00      17850.0   \n",
      "\n",
      "                                         Description Stock Code  Invoice No  \\\n",
      "0                                 Dog and Puppy Pads     85123A    536365.0   \n",
      "1                                Pet Odor Eliminator      84879    536367.0   \n",
      "2                      Rechargeable Pet Nail Grinder      22960    536368.0   \n",
      "3  Litter Slide Multi-Cat Scented Clumping Clay C...      22086    536371.0   \n",
      "4                                 Dog and Puppy Pads     85123A    536373.0   \n",
      "\n",
      "   Quantity   Sales  Unit Price  \n",
      "0         1   15.30       15.30  \n",
      "1         6   60.84       10.14  \n",
      "2         1   25.50       25.50  \n",
      "3        14  214.20       15.30  \n",
      "4         1   15.30       15.30  \n"
     ]
    }
   ],
   "source": [
    "# since the description is also in the product info data and you have a foriegn key to it \n",
    "# you don't need it and it doesn't add any info so i dropped it from the cl_sales_info\n",
    "# and i made sure there was no stock code that wasn't recorded in product info\n",
    "i = 0\n",
    "un = cl_sales_info['Stock Code'].unique()\n",
    "for un in products_info['Stock Code']:\n",
    "    print(i)\n",
    "    i = i + 1\n",
    "print(cl_sales_info.head())"
   ]
  },
  {
   "cell_type": "code",
   "execution_count": 587,
   "id": "d5331e7a-9dbf-4650-bbf5-ba5bf9c31f64",
   "metadata": {
    "scrolled": true
   },
   "outputs": [
    {
     "name": "stdout",
     "output_type": "stream",
     "text": [
      "<class 'pandas.core.frame.DataFrame'>\n",
      "Index: 25002 entries, 0 to 25064\n",
      "Data columns (total 8 columns):\n",
      " #   Column            Non-Null Count  Dtype         \n",
      "---  ------            --------------  -----         \n",
      " 0   Transaction Date  25002 non-null  datetime64[ns]\n",
      " 1   Customer ID       20646 non-null  float64       \n",
      " 2   Description       25002 non-null  object        \n",
      " 3   Stock Code        25002 non-null  object        \n",
      " 4   Invoice No        24341 non-null  float64       \n",
      " 5   Quantity          25002 non-null  int64         \n",
      " 6   Sales             25002 non-null  float64       \n",
      " 7   Unit Price        25002 non-null  float64       \n",
      "dtypes: datetime64[ns](1), float64(4), int64(1), object(2)\n",
      "memory usage: 1.7+ MB\n"
     ]
    }
   ],
   "source": [
    "cl_sales_info.info()"
   ]
  },
  {
   "cell_type": "code",
   "execution_count": 588,
   "id": "d734f061-5286-4b0b-884a-276af77f90c0",
   "metadata": {
    "scrolled": true
   },
   "outputs": [
    {
     "name": "stdout",
     "output_type": "stream",
     "text": [
      "Quantity\n",
      "-1      85\n",
      "-2      22\n",
      "-16     13\n",
      "-4       7\n",
      "-3       6\n",
      "-6       5\n",
      "-8       5\n",
      "-33      4\n",
      "-5       4\n",
      "-10      2\n",
      "-20      2\n",
      "-321     1\n",
      "-12      1\n",
      "-25      1\n",
      "-83      1\n",
      "-23      1\n",
      "-36      1\n",
      "-9       1\n",
      "-50      1\n",
      "-7       1\n",
      "Name: count, dtype: int64\n",
      "[-321  -83  -50  -36  -33  -25  -23  -20  -16  -12  -10   -9   -8   -7\n",
      "   -6   -5   -4   -3   -2   -1    1    2    3    4    5    6    7    8\n",
      "    9   10   11   12   13   14   15   16   17   18   19   20   21   22\n",
      "   24   25   26   27   28   32   33   34   35   36   37   38   39   40\n",
      "   42   43   45   46   47   48   50   54   56   60   63   67   68   80\n",
      "   84   86  100  102  105  107  115  117  134  152  160  162  166  167\n",
      "  169  170  189  200  240  250  304  317  322  332  340  400  480  717]\n"
     ]
    }
   ],
   "source": [
    "# I removed all rows that had quantity of 0 since I can't use them in any analisis and also because they didn't have an\n",
    "# invoice no\n",
    "cl_sales_info = cl_sales_info[cl_sales_info['Quantity'] != 0]\n",
    "print(cl_sales_info['Quantity'][cl_sales_info['Invoice No'].isnull()].value_counts())\n",
    "print(np.sort(cl_sales_info['Quantity'].unique()))"
   ]
  },
  {
   "cell_type": "code",
   "execution_count": 589,
   "id": "c62ea4ce-856a-4deb-9276-0458f7313798",
   "metadata": {},
   "outputs": [],
   "source": [
    "# i droped all rows that had any null invoice number and since all of them had negative quantity \n",
    "# therefore no negative quantity was left\n",
    "# cl_sales_info['Quantity'][cl_sales_info['Quantity'] <= 0] = 0"
   ]
  },
  {
   "cell_type": "code",
   "execution_count": 590,
   "id": "d9d11f72-cabf-4995-a5eb-b5712aa447db",
   "metadata": {},
   "outputs": [
    {
     "name": "stdout",
     "output_type": "stream",
     "text": [
      "<class 'pandas.core.frame.DataFrame'>\n",
      "Index: 24505 entries, 0 to 25064\n",
      "Data columns (total 8 columns):\n",
      " #   Column            Non-Null Count  Dtype         \n",
      "---  ------            --------------  -----         \n",
      " 0   Transaction Date  24505 non-null  datetime64[ns]\n",
      " 1   Customer ID       20151 non-null  float64       \n",
      " 2   Description       24505 non-null  object        \n",
      " 3   Stock Code        24505 non-null  object        \n",
      " 4   Invoice No        24341 non-null  float64       \n",
      " 5   Quantity          24505 non-null  int64         \n",
      " 6   Sales             24505 non-null  float64       \n",
      " 7   Unit Price        24505 non-null  float64       \n",
      "dtypes: datetime64[ns](1), float64(4), int64(1), object(2)\n",
      "memory usage: 1.7+ MB\n"
     ]
    }
   ],
   "source": [
    "cl_sales_info.info()"
   ]
  },
  {
   "cell_type": "code",
   "execution_count": 591,
   "id": "6a2314d2-3846-4d8e-91d7-e0870e256651",
   "metadata": {},
   "outputs": [
    {
     "data": {
      "text/html": [
       "<div>\n",
       "<style scoped>\n",
       "    .dataframe tbody tr th:only-of-type {\n",
       "        vertical-align: middle;\n",
       "    }\n",
       "\n",
       "    .dataframe tbody tr th {\n",
       "        vertical-align: top;\n",
       "    }\n",
       "\n",
       "    .dataframe thead th {\n",
       "        text-align: right;\n",
       "    }\n",
       "</style>\n",
       "<table border=\"1\" class=\"dataframe\">\n",
       "  <thead>\n",
       "    <tr style=\"text-align: right;\">\n",
       "      <th></th>\n",
       "      <th>Transaction Date</th>\n",
       "      <th>Customer ID</th>\n",
       "      <th>Description</th>\n",
       "      <th>Stock Code</th>\n",
       "      <th>Invoice No</th>\n",
       "      <th>Quantity</th>\n",
       "      <th>Sales</th>\n",
       "      <th>Unit Price</th>\n",
       "    </tr>\n",
       "  </thead>\n",
       "  <tbody>\n",
       "  </tbody>\n",
       "</table>\n",
       "</div>"
      ],
      "text/plain": [
       "Empty DataFrame\n",
       "Columns: [Transaction Date, Customer ID, Description, Stock Code, Invoice No, Quantity, Sales, Unit Price]\n",
       "Index: []"
      ]
     },
     "execution_count": 591,
     "metadata": {},
     "output_type": "execute_result"
    }
   ],
   "source": [
    "# to make sure there is no duplicated rows\n",
    "cl_sales_info[cl_sales_info.duplicated()]"
   ]
  },
  {
   "cell_type": "code",
   "execution_count": 592,
   "id": "95b1a033-3dbb-45c8-a315-65c028d3c319",
   "metadata": {},
   "outputs": [
    {
     "name": "stdout",
     "output_type": "stream",
     "text": [
      "[ -8  -4  -2  -1   1   2   3   4   5   6   7   8   9  10  11  12  13  14\n",
      "  15  16  17  18  19  20  21  24  25  35  36  39  47  63  68  80 105 107\n",
      " 115 189 304]\n",
      "[-321  -83  -50  -36  -33  -25  -23  -20  -16  -12  -10   -9   -8   -7\n",
      "   -6   -5   -4   -3   -2   -1    1    2    3    4    5    6    7    8\n",
      "    9   10   11   12   13   14   15   16   17   18   19   20   21   22\n",
      "   24   25   26   27   28   32   33   34   35   36   37   38   39   40\n",
      "   42   43   45   46   47   48   50   54   56   60   63   67   68   80\n",
      "   84   86  100  102  105  107  115  117  134  152  160  162  166  167\n",
      "  169  170  189  200  240  250  304  317  322  332  340  400  480  717]\n"
     ]
    },
    {
     "data": {
      "text/plain": [
       "<Axes: >"
      ]
     },
     "execution_count": 592,
     "metadata": {},
     "output_type": "execute_result"
    },
    {
     "data": {
      "image/png": "[encoded data removed]",
      "text/plain": [
       "<Figure size 640x480 with 1 Axes>"
      ]
     },
     "metadata": {},
     "output_type": "display_data"
    }
   ],
   "source": [
    "customers = cl_sales_info[cl_sales_info['Customer ID'].isnull()]\n",
    "print(np.sort(customers['Quantity'].unique()))\n",
    "print(np.sort(cl_sales_info['Quantity'].unique()))\n",
    "sns.boxplot(cl_sales_info['Quantity'])"
   ]
  },
  {
   "cell_type": "code",
   "execution_count": 593,
   "id": "b26d33d0-f639-4589-b904-24f580290449",
   "metadata": {},
   "outputs": [],
   "source": [
    "# i added a date column to make it easier to make analysis on\n",
    "cl_sales_info['Date'] = cl_sales_info['Transaction Date'].dt.date"
   ]
  },
  {
   "cell_type": "code",
   "execution_count": 594,
   "id": "9dac1ff0-8a2f-4162-a0d6-fe745a5d1fef",
   "metadata": {},
   "outputs": [
    {
     "name": "stderr",
     "output_type": "stream",
     "text": [
      "c:\\Users\\hp\\AppData\\Local\\Programs\\Python\\Python311\\Lib\\site-packages\\seaborn\\_oldcore.py:1498: FutureWarning: is_categorical_dtype is deprecated and will be removed in a future version. Use isinstance(dtype, CategoricalDtype) instead\n",
      "  if pd.api.types.is_categorical_dtype(vector):\n",
      "c:\\Users\\hp\\AppData\\Local\\Programs\\Python\\Python311\\Lib\\site-packages\\seaborn\\_oldcore.py:1498: FutureWarning: is_categorical_dtype is deprecated and will be removed in a future version. Use isinstance(dtype, CategoricalDtype) instead\n",
      "  if pd.api.types.is_categorical_dtype(vector):\n",
      "c:\\Users\\hp\\AppData\\Local\\Programs\\Python\\Python311\\Lib\\site-packages\\seaborn\\_oldcore.py:1498: FutureWarning: is_categorical_dtype is deprecated and will be removed in a future version. Use isinstance(dtype, CategoricalDtype) instead\n",
      "  if pd.api.types.is_categorical_dtype(vector):\n",
      "c:\\Users\\hp\\AppData\\Local\\Programs\\Python\\Python311\\Lib\\site-packages\\seaborn\\_oldcore.py:1119: FutureWarning: use_inf_as_na option is deprecated and will be removed in a future version. Convert inf values to NaN before operating instead.\n",
      "  with pd.option_context('mode.use_inf_as_na', True):\n",
      "c:\\Users\\hp\\AppData\\Local\\Programs\\Python\\Python311\\Lib\\site-packages\\seaborn\\_oldcore.py:1119: FutureWarning: use_inf_as_na option is deprecated and will be removed in a future version. Convert inf values to NaN before operating instead.\n",
      "  with pd.option_context('mode.use_inf_as_na', True):\n",
      "c:\\Users\\hp\\AppData\\Local\\Programs\\Python\\Python311\\Lib\\site-packages\\seaborn\\_oldcore.py:1498: FutureWarning: is_categorical_dtype is deprecated and will be removed in a future version. Use isinstance(dtype, CategoricalDtype) instead\n",
      "  if pd.api.types.is_categorical_dtype(vector):\n",
      "c:\\Users\\hp\\AppData\\Local\\Programs\\Python\\Python311\\Lib\\site-packages\\seaborn\\_oldcore.py:1498: FutureWarning: is_categorical_dtype is deprecated and will be removed in a future version. Use isinstance(dtype, CategoricalDtype) instead\n",
      "  if pd.api.types.is_categorical_dtype(vector):\n",
      "c:\\Users\\hp\\AppData\\Local\\Programs\\Python\\Python311\\Lib\\site-packages\\seaborn\\_oldcore.py:1498: FutureWarning: is_categorical_dtype is deprecated and will be removed in a future version. Use isinstance(dtype, CategoricalDtype) instead\n",
      "  if pd.api.types.is_categorical_dtype(vector):\n",
      "c:\\Users\\hp\\AppData\\Local\\Programs\\Python\\Python311\\Lib\\site-packages\\seaborn\\_oldcore.py:1119: FutureWarning: use_inf_as_na option is deprecated and will be removed in a future version. Convert inf values to NaN before operating instead.\n",
      "  with pd.option_context('mode.use_inf_as_na', True):\n",
      "c:\\Users\\hp\\AppData\\Local\\Programs\\Python\\Python311\\Lib\\site-packages\\seaborn\\_oldcore.py:1119: FutureWarning: use_inf_as_na option is deprecated and will be removed in a future version. Convert inf values to NaN before operating instead.\n",
      "  with pd.option_context('mode.use_inf_as_na', True):\n",
      "c:\\Users\\hp\\AppData\\Local\\Programs\\Python\\Python311\\Lib\\site-packages\\seaborn\\_oldcore.py:1498: FutureWarning: is_categorical_dtype is deprecated and will be removed in a future version. Use isinstance(dtype, CategoricalDtype) instead\n",
      "  if pd.api.types.is_categorical_dtype(vector):\n",
      "c:\\Users\\hp\\AppData\\Local\\Programs\\Python\\Python311\\Lib\\site-packages\\seaborn\\_oldcore.py:1498: FutureWarning: is_categorical_dtype is deprecated and will be removed in a future version. Use isinstance(dtype, CategoricalDtype) instead\n",
      "  if pd.api.types.is_categorical_dtype(vector):\n",
      "c:\\Users\\hp\\AppData\\Local\\Programs\\Python\\Python311\\Lib\\site-packages\\seaborn\\_oldcore.py:1498: FutureWarning: is_categorical_dtype is deprecated and will be removed in a future version. Use isinstance(dtype, CategoricalDtype) instead\n",
      "  if pd.api.types.is_categorical_dtype(vector):\n",
      "c:\\Users\\hp\\AppData\\Local\\Programs\\Python\\Python311\\Lib\\site-packages\\seaborn\\_oldcore.py:1498: FutureWarning: is_categorical_dtype is deprecated and will be removed in a future version. Use isinstance(dtype, CategoricalDtype) instead\n",
      "  if pd.api.types.is_categorical_dtype(vector):\n",
      "c:\\Users\\hp\\AppData\\Local\\Programs\\Python\\Python311\\Lib\\site-packages\\seaborn\\_oldcore.py:1498: FutureWarning: is_categorical_dtype is deprecated and will be removed in a future version. Use isinstance(dtype, CategoricalDtype) instead\n",
      "  if pd.api.types.is_categorical_dtype(vector):\n"
     ]
    },
    {
     "data": {
      "image/png": "[encoded data removed]",
      "text/plain": [
       "<Figure size 640x480 with 4 Axes>"
      ]
     },
     "metadata": {},
     "output_type": "display_data"
    },
    {
     "name": "stdout",
     "output_type": "stream",
     "text": [
      "         Transaction Date  Customer ID  \\\n",
      "10284 2021-06-10 08:50:00      15628.0   \n",
      "10285 2021-06-10 08:50:00      15628.0   \n",
      "10286 2021-06-10 08:54:00      17115.0   \n",
      "10287 2021-06-10 08:54:00      17115.0   \n",
      "10288 2021-06-10 08:54:00      17115.0   \n",
      "...                   ...          ...   \n",
      "10357 2021-06-10 16:46:00      15856.0   \n",
      "10358 2021-06-10 17:25:00          NaN   \n",
      "10359 2021-06-10 17:25:00          NaN   \n",
      "10360 2021-06-10 17:25:00          NaN   \n",
      "10361 2021-06-10 17:25:00          NaN   \n",
      "\n",
      "                                             Description Stock Code  \\\n",
      "10284                                 Dog and Puppy Pads     85123A   \n",
      "10285               Purina Pro Plan Adult Sensitive Skin      23284   \n",
      "10286                                 Dog and Puppy Pads     85123A   \n",
      "10287  Memory Foam Pet Beds for Small, Medium, and La...      47566   \n",
      "10288     Milk-Bone MaroSnacks Dog Treats with Real Bone      22386   \n",
      "...                                                  ...        ...   \n",
      "10357            Sheba Perfect Portions Pat Wet Cat Food      22197   \n",
      "10358                                 Dog and Puppy Pads     85123A   \n",
      "10359                                  Indoor Pet Camera      22502   \n",
      "10360                                   Pet Hair Remover      23203   \n",
      "10361  Taste of the Wild High Prairie Grain-Free Dry ...      22423   \n",
      "\n",
      "       Invoice No  Quantity  Sales  Unit Price        Date  \n",
      "10284    556283.0         2  35.40       17.70  2021-06-10  \n",
      "10285    556283.0         1  47.70       47.70  2021-06-10  \n",
      "10286    556284.0         2  35.40       17.70  2021-06-10  \n",
      "10287    556284.0         2  59.40       29.70  2021-06-10  \n",
      "10288    556284.0         2  24.96       12.48  2021-06-10  \n",
      "...           ...       ...    ...         ...         ...  \n",
      "10357    556455.0        17  73.44        4.32  2021-06-10  \n",
      "10358    556459.0         1  34.74       34.74  2021-06-10  \n",
      "10359    556459.0         1  64.74       64.74  2021-06-10  \n",
      "10360    556459.0         1  24.78       24.78  2021-06-10  \n",
      "10361    556459.0         1  76.50       76.50  2021-06-10  \n",
      "\n",
      "[77 rows x 9 columns]\n"
     ]
    }
   ],
   "source": [
    "# we can conclude from the graph that there is a quantity or a unit price that was wrong\n",
    "fig, (ax1, ax2, ax3, ax4) =plt.subplots(1,4)\n",
    "by_date1 = cl_sales_info.groupby(['Date'], as_index=False)['Sales'].sum()\n",
    "nay = cl_sales_info['Date'] == by_date1.iloc[by_date1['Sales'].argmax(),0]\n",
    "by_date2 = cl_sales_info[~nay].groupby(['Date'], as_index=False)['Sales'].sum()\n",
    "by_date3 = cl_sales_info[nay]\n",
    "sns.lineplot(x='Date', y='Sales', data=by_date1, ax=ax1)\n",
    "sns.lineplot(x='Date', y='Sales', data=by_date2, ax=ax2)\n",
    "sns.scatterplot(x='Date', y='Sales', data=by_date1, ax=ax3)\n",
    "sns.scatterplot(x='Transaction Date', y='Sales', data=by_date3, ax=ax4)\n",
    "ax1.tick_params('x', labelrotation=90)\n",
    "ax2.tick_params('x', labelrotation=90)\n",
    "ax3.tick_params('x', labelrotation=90)\n",
    "ax4.tick_params('x', labelrotation=90)\n",
    "plt.show()\n",
    "print(cl_sales_info[nay])"
   ]
  },
  {
   "cell_type": "code",
   "execution_count": 595,
   "id": "c98f4513-7678-4fb9-ab87-8c956f1950e1",
   "metadata": {},
   "outputs": [
    {
     "name": "stdout",
     "output_type": "stream",
     "text": [
      "85123A [14.4  15.3  17.7  19.2  19.44 34.74 35.46 39.78 40.62]\n",
      "84879 [ 8.1   8.7  10.14 18.72 19.14]\n",
      "22960 [17.7  17.76 22.5  25.5  27.6  49.74 50.82 59.7 ]\n",
      "22086 [15.3  17.7  34.74 35.46 39.78 40.62 41.7 ]\n",
      "22114 [20.7  22.5  23.7  25.5  27.6  27.9  30.6  49.74 50.82 54.78 55.92 59.7 ]\n",
      "22386 [ 9.9  10.44 10.5  10.74 11.7  12.48 24.78 25.26 29.76 30.36]\n",
      "20725 [ 8.7   9.9  19.8  24.78 25.26 29.76 30.36 49.98]\n",
      "82484 [28.62 28.68 28.8  29.16 33.3  38.7  40.5  47.4  47.7  79.74 81.42 99.78]\n",
      "85099B [ 9.9  10.44 10.5  10.74 11.7  12.24 12.48 14.76 24.78 25.26 29.7 ]\n",
      "79321 [ 22.92  23.88  25.5   27.9   28.2   29.7   34.5   34.74  59.76  61.02\n",
      "  64.74  66.12  74.76  89.7  107.28]\n",
      "22197 [ 4.32  5.1   9.78  9.96 11.7  14.76]\n",
      "22502 [  12.     29.7    35.7    49.74   50.82   53.7    64.74 3897.  ]\n",
      "21137 [20.34 22.5  24.78 44.76 45.72]\n",
      "22423 [ 24.    30.    59.16  65.7   76.32  76.5  149.76 152.94 192.24]\n",
      "47566 [22.44 22.5  24.9  25.8  27.9  29.7  29.76 34.74 49.74 50.82 54.78 55.92\n",
      " 64.74 77.7  94.74]\n",
      "22720 [20.34 25.5  29.7  30.48 31.08 64.74 66.12 77.7 ]\n",
      "23284 [27.48 40.5  42.48 47.7  48.   49.5  94.74 99.78]\n",
      "23298 [22.44 24.9  29.7  30.84 64.74]\n",
      "23203 [ 9.9  10.5  10.74 11.7  12.48 24.78 29.7 ]\n",
      "23084 [10.02 10.74 12.48 24.78 29.7  29.76]\n"
     ]
    }
   ],
   "source": [
    "# to see all the unit prices and discover which one was the wrong one and 22502 was the one who had one with a wrong unit price\n",
    "for i in cl_sales_info['Stock Code'].unique():\n",
    "    print(i, np.sort(cl_sales_info.loc[cl_sales_info['Stock Code'] == i, 'Unit Price'].unique()))"
   ]
  },
  {
   "cell_type": "code",
   "execution_count": 596,
   "id": "9e7e33b5-faae-4729-a931-1d91ffaf7ca2",
   "metadata": {},
   "outputs": [],
   "source": [
    "# since all unit price didn't reach even 100 i changed this one to 38.97 instead of 3897 i think it was \n",
    "# entered incorecctly\n",
    "cl_sales_info.loc[cl_sales_info['Unit Price'] == 3897, 'Unit Price'] = 38.97"
   ]
  },
  {
   "cell_type": "code",
   "execution_count": 597,
   "id": "a1d2ac9f-33c5-4470-837f-5d6813af7eff",
   "metadata": {},
   "outputs": [
    {
     "name": "stdout",
     "output_type": "stream",
     "text": [
      "       Quantity  Unit Price   Sales\n",
      "0             1       15.30   15.30\n",
      "1             6       10.14   60.84\n",
      "2             1       25.50   25.50\n",
      "3            14       15.30  214.20\n",
      "4             1       15.30   15.30\n",
      "...         ...         ...     ...\n",
      "25060         4       10.74   42.96\n",
      "25061         1       34.50   34.50\n",
      "25062         7        8.70   60.90\n",
      "25063         3       10.14   30.42\n",
      "25064         2       12.48   24.96\n",
      "\n",
      "[24503 rows x 3 columns]\n",
      "       Quantity  Unit Price    Sales\n",
      "10350        10       38.97  38970.0\n",
      "10351         1       38.97   3897.0\n",
      "       Quantity  Unit Price   Sales\n",
      "0             1       15.30   15.30\n",
      "1             6       10.14   60.84\n",
      "2             1       25.50   25.50\n",
      "3            14       15.30  214.20\n",
      "4             1       15.30   15.30\n",
      "...         ...         ...     ...\n",
      "25060         4       10.74   42.96\n",
      "25061         1       34.50   34.50\n",
      "25062         7        8.70   60.90\n",
      "25063         3       10.14   30.42\n",
      "25064         2       12.48   24.96\n",
      "\n",
      "[24505 rows x 3 columns]\n",
      "Empty DataFrame\n",
      "Columns: [Quantity, Unit Price, Sales]\n",
      "Index: []\n"
     ]
    },
    {
     "data": {
      "text/plain": [
       "(24505, 9)"
      ]
     },
     "execution_count": 597,
     "metadata": {},
     "output_type": "execute_result"
    }
   ],
   "source": [
    "# after i changed the unit price i wanted to make sure all sales were correct so i multiplied the quantity with the unit price\n",
    "# and set it to sales\n",
    "multi =np.round((cl_sales_info['Quantity'] * cl_sales_info['Unit Price']),4)\n",
    "checking = (cl_sales_info['Sales']) == multi\n",
    "print(cl_sales_info[checking][['Quantity', 'Unit Price', 'Sales']])\n",
    "print(cl_sales_info[~checking][['Quantity', 'Unit Price', 'Sales']])\n",
    "cl_sales_info['Sales'] = multi\n",
    "checking = (cl_sales_info['Sales']) == multi\n",
    "print(cl_sales_info[checking][['Quantity', 'Unit Price', 'Sales']])\n",
    "print(cl_sales_info[~checking][['Quantity', 'Unit Price', 'Sales']])\n",
    "cl_sales_info.shape"
   ]
  },
  {
   "cell_type": "code",
   "execution_count": 598,
   "id": "96dcb557",
   "metadata": {},
   "outputs": [
    {
     "name": "stdout",
     "output_type": "stream",
     "text": [
      "3143\n",
      "4372\n"
     ]
    }
   ],
   "source": [
    "c = customers_info['Customer ID'].unique()\n",
    "i = 0\n",
    "for u in cl_sales_info['Customer ID'].unique():\n",
    "    if u in c:\n",
    "        i= i + 1\n",
    "print(i)\n",
    "print(len(c))"
   ]
  },
  {
   "cell_type": "code",
   "execution_count": 599,
   "id": "8d4fbc1f",
   "metadata": {},
   "outputs": [
    {
     "name": "stdout",
     "output_type": "stream",
     "text": [
      "Dog and Puppy Pads [14.4  15.3  17.7  19.2  19.44 34.74 35.46 39.78 40.62]\n",
      "Pet Odor Eliminator [ 8.1   8.7  10.14 18.72 19.14]\n",
      "Rechargeable Pet Nail Grinder [17.7  17.76 22.5  25.5  27.6  49.74 50.82 59.7 ]\n",
      "Litter Slide Multi-Cat Scented Clumping Clay Cat Litter [15.3  17.7  34.74 35.46 39.78 40.62 41.7 ]\n",
      "ChomChom Pet Hair Remover - Reusable Cat and Dog Hair Remover [20.7  22.5  23.7  25.5  27.6  27.9  30.6  49.74 50.82 54.78 55.92 59.7 ]\n",
      "Milk-Bone MaroSnacks Dog Treats with Real Bone [ 9.9  10.44 10.5  10.74 11.7  12.48 24.78 25.26 29.76 30.36]\n",
      "Pet Grooming Brush [ 8.7   9.9  19.8  24.78 25.26 29.76 30.36 49.98]\n",
      "NexGard Chew for Dogs [28.62 28.68 28.8  29.16 33.3  38.7  40.5  47.4  47.7  79.74 81.42 99.78]\n",
      "Earth Rated Dog Poop Bags [ 9.9  10.44 10.5  10.74 11.7  12.24 12.48 14.76 24.78 25.26 29.7 ]\n",
      "ProBiotic Supplements for Dogs [ 22.92  23.88  25.5   27.9   28.2   29.7   34.5   34.74  59.76  61.02\n",
      "  64.74  66.12  74.76  89.7  107.28]\n",
      "Sheba Perfect Portions Pat Wet Cat Food [ 4.32  5.1   9.78  9.96 11.7  14.76]\n",
      "Indoor Pet Camera (Wi-Fi) [29.7  35.7  50.82]\n",
      "Canned Cat Food [20.34 22.5  24.78 44.76 45.72]\n",
      "Taste of the Wild High Prairie Grain-Free Dry Dog Food 40lb [ 24.    30.    59.16  65.7   76.32  76.5  149.76 152.94 192.24]\n",
      "Memory Foam Pet Beds for Small, Medium, and Large Dogs and Cats [22.44 22.5  24.9  25.8  27.9  29.7  29.76 34.74 49.74 50.82 54.78 55.92\n",
      " 64.74 77.7  94.74]\n",
      "UltraSound Dog Barking Deterrent [20.34 25.5  29.7  30.48 31.08 64.74 66.12 77.7 ]\n",
      "Indoor Pet Camera [12.   29.7  35.7  38.97 49.74 50.82 53.7  64.74]\n",
      "Purina Pro Plan Adult Sensitive Skin [27.48 40.5  42.48 47.7  48.   49.5  94.74 99.78]\n",
      "Purina ONE SmartBlend Natural Adult Chicken 10lb [22.44 24.9  29.7  30.84 64.74]\n",
      "Pet Hair Remover [ 9.9  10.5  10.74 11.7  12.48 24.78 29.7 ]\n",
      "Templation Soft Cat Treats [10.02 10.74 12.48 24.78 29.7  29.76]\n"
     ]
    }
   ],
   "source": [
    "for i in cl_sales_info['Description'].unique():\n",
    "    print(i, np.sort(cl_sales_info.loc[cl_sales_info['Description'] == i, 'Unit Price'].unique()))"
   ]
  },
  {
   "cell_type": "code",
   "execution_count": 600,
   "id": "cc337de7",
   "metadata": {},
   "outputs": [
    {
     "name": "stderr",
     "output_type": "stream",
     "text": [
      "C:\\Users\\hp\\AppData\\Local\\Temp\\ipykernel_2696\\92577540.py:1: SettingWithCopyWarning: \n",
      "A value is trying to be set on a copy of a slice from a DataFrame\n",
      "\n",
      "See the caveats in the documentation: https://pandas.pydata.org/pandas-docs/stable/user_guide/indexing.html#returning-a-view-versus-a-copy\n",
      "  products_info['Category'][products_info['Category'] == 'Pet Food'] = 'Food'\n"
     ]
    },
    {
     "data": {
      "text/html": [
       "<div>\n",
       "<style scoped>\n",
       "    .dataframe tbody tr th:only-of-type {\n",
       "        vertical-align: middle;\n",
       "    }\n",
       "\n",
       "    .dataframe tbody tr th {\n",
       "        vertical-align: top;\n",
       "    }\n",
       "\n",
       "    .dataframe thead th {\n",
       "        text-align: right;\n",
       "    }\n",
       "</style>\n",
       "<table border=\"1\" class=\"dataframe\">\n",
       "  <thead>\n",
       "    <tr style=\"text-align: right;\">\n",
       "      <th></th>\n",
       "      <th>Stock Code</th>\n",
       "      <th>Weight</th>\n",
       "      <th>Landed Cost</th>\n",
       "      <th>Shipping_Cost_1000_mile</th>\n",
       "      <th>Description</th>\n",
       "      <th>Category</th>\n",
       "    </tr>\n",
       "  </thead>\n",
       "  <tbody>\n",
       "    <tr>\n",
       "      <th>0</th>\n",
       "      <td>22423</td>\n",
       "      <td>40.0</td>\n",
       "      <td>35.0</td>\n",
       "      <td>20.0</td>\n",
       "      <td>Taste of the Wild High Prairie Grain-Free Dry ...</td>\n",
       "      <td>Food</td>\n",
       "    </tr>\n",
       "    <tr>\n",
       "      <th>1</th>\n",
       "      <td>85123A</td>\n",
       "      <td>2.0</td>\n",
       "      <td>6.0</td>\n",
       "      <td>5.0</td>\n",
       "      <td>Dog and Puppy Pads</td>\n",
       "      <td>Disposables</td>\n",
       "    </tr>\n",
       "    <tr>\n",
       "      <th>2</th>\n",
       "      <td>47566</td>\n",
       "      <td>6.0</td>\n",
       "      <td>18.0</td>\n",
       "      <td>12.0</td>\n",
       "      <td>Memory Foam Pet Beds for Small, Medium, and La...</td>\n",
       "      <td>Disposables</td>\n",
       "    </tr>\n",
       "    <tr>\n",
       "      <th>3</th>\n",
       "      <td>85099B</td>\n",
       "      <td>2.0</td>\n",
       "      <td>5.0</td>\n",
       "      <td>4.0</td>\n",
       "      <td>Earth Rated Dog Poop Bags</td>\n",
       "      <td>Disposables</td>\n",
       "    </tr>\n",
       "    <tr>\n",
       "      <th>4</th>\n",
       "      <td>23084</td>\n",
       "      <td>2.0</td>\n",
       "      <td>6.0</td>\n",
       "      <td>6.0</td>\n",
       "      <td>Templation Soft Cat Treats</td>\n",
       "      <td>Food</td>\n",
       "    </tr>\n",
       "  </tbody>\n",
       "</table>\n",
       "</div>"
      ],
      "text/plain": [
       "  Stock Code  Weight  Landed Cost  Shipping_Cost_1000_mile  \\\n",
       "0      22423    40.0         35.0                     20.0   \n",
       "1     85123A     2.0          6.0                      5.0   \n",
       "2      47566     6.0         18.0                     12.0   \n",
       "3     85099B     2.0          5.0                      4.0   \n",
       "4      23084     2.0          6.0                      6.0   \n",
       "\n",
       "                                         Description     Category  \n",
       "0  Taste of the Wild High Prairie Grain-Free Dry ...         Food  \n",
       "1                                 Dog and Puppy Pads  Disposables  \n",
       "2  Memory Foam Pet Beds for Small, Medium, and La...  Disposables  \n",
       "3                          Earth Rated Dog Poop Bags  Disposables  \n",
       "4                         Templation Soft Cat Treats         Food  "
      ]
     },
     "execution_count": 600,
     "metadata": {},
     "output_type": "execute_result"
    }
   ],
   "source": [
    "products_info['Category'][products_info['Category'] == 'Pet Food'] = 'Food'\n",
    "products_info.head()"
   ]
  },
  {
   "cell_type": "markdown",
   "id": "e044e942",
   "metadata": {},
   "source": [
    "<h1>Adding Columns to Help in Finding Insights</h1>"
   ]
  },
  {
   "cell_type": "code",
   "execution_count": 601,
   "id": "2b8be5e2-5767-41cc-a096-57d7bb746ca6",
   "metadata": {},
   "outputs": [
    {
     "name": "stdout",
     "output_type": "stream",
     "text": [
      "0        Disposables\n",
      "4        Disposables\n",
      "6        Disposables\n",
      "14       Disposables\n",
      "20       Disposables\n",
      "            ...     \n",
      "24975    Disposables\n",
      "24994    Disposables\n",
      "25007    Disposables\n",
      "25020    Disposables\n",
      "25050    Disposables\n",
      "Name: Category, Length: 2288, dtype: object\n",
      "85123A\n",
      "1        Cleanig Supplies\n",
      "19       Cleanig Supplies\n",
      "22       Cleanig Supplies\n",
      "32       Cleanig Supplies\n",
      "40       Cleanig Supplies\n",
      "               ...       \n",
      "24822    Cleanig Supplies\n",
      "24852    Cleanig Supplies\n",
      "24941    Cleanig Supplies\n",
      "25025    Cleanig Supplies\n",
      "25063    Cleanig Supplies\n",
      "Name: Category, Length: 1473, dtype: object\n",
      "84879\n",
      "2        Grooming\n",
      "11       Grooming\n",
      "16       Grooming\n",
      "41       Grooming\n",
      "46       Grooming\n",
      "           ...   \n",
      "24969    Grooming\n",
      "24983    Grooming\n",
      "24992    Grooming\n",
      "25029    Grooming\n",
      "25049    Grooming\n",
      "Name: Category, Length: 1147, dtype: object\n",
      "22960\n",
      "3        Disposables\n",
      "9        Disposables\n",
      "28       Disposables\n",
      "35       Disposables\n",
      "38       Disposables\n",
      "            ...     \n",
      "25010    Disposables\n",
      "25015    Disposables\n",
      "25021    Disposables\n",
      "25045    Disposables\n",
      "25057    Disposables\n",
      "Name: Category, Length: 1176, dtype: object\n",
      "22086\n",
      "5        Grooming\n",
      "21       Grooming\n",
      "24       Grooming\n",
      "31       Grooming\n",
      "64       Grooming\n",
      "           ...   \n",
      "24974    Grooming\n",
      "25011    Grooming\n",
      "25019    Grooming\n",
      "25037    Grooming\n",
      "25043    Grooming\n",
      "Name: Category, Length: 646, dtype: object\n",
      "22114\n",
      "7        Food\n",
      "44       Food\n",
      "73       Food\n",
      "100      Food\n",
      "105      Food\n",
      "         ... \n",
      "24815    Food\n",
      "24890    Food\n",
      "24978    Food\n",
      "25046    Food\n",
      "25058    Food\n",
      "Name: Category, Length: 1226, dtype: object\n",
      "22386\n",
      "8        Grooming\n",
      "27       Grooming\n",
      "36       Grooming\n",
      "78       Grooming\n",
      "94       Grooming\n",
      "           ...   \n",
      "24980    Grooming\n",
      "24990    Grooming\n",
      "25024    Grooming\n",
      "25051    Grooming\n",
      "25062    Grooming\n",
      "Name: Category, Length: 1582, dtype: object\n",
      "20725\n",
      "10       Food\n",
      "84       Food\n",
      "165      Food\n",
      "225      Food\n",
      "242      Food\n",
      "         ... \n",
      "24907    Food\n",
      "24979    Food\n",
      "24997    Food\n",
      "24999    Food\n",
      "25023    Food\n",
      "Name: Category, Length: 686, dtype: object\n",
      "82484\n",
      "12       Disposables\n",
      "15       Disposables\n",
      "33       Disposables\n",
      "42       Disposables\n",
      "57       Disposables\n",
      "            ...     \n",
      "24949    Disposables\n",
      "24959    Disposables\n",
      "24976    Disposables\n",
      "25014    Disposables\n",
      "25044    Disposables\n",
      "Name: Category, Length: 2110, dtype: object\n",
      "85099B\n",
      "13       Supplements\n",
      "39       Supplements\n",
      "79       Supplements\n",
      "85       Supplements\n",
      "86       Supplements\n",
      "            ...     \n",
      "24953    Supplements\n",
      "24958    Supplements\n",
      "25026    Supplements\n",
      "25047    Supplements\n",
      "25061    Supplements\n",
      "Name: Category, Length: 666, dtype: object\n",
      "79321\n",
      "17       Food\n",
      "29       Food\n",
      "34       Food\n",
      "37       Food\n",
      "47       Food\n",
      "         ... \n",
      "25012    Food\n",
      "25030    Food\n",
      "25039    Food\n",
      "25052    Food\n",
      "25059    Food\n",
      "Name: Category, Length: 1413, dtype: object\n",
      "22197\n",
      "18       Electronics\n",
      "26       Electronics\n",
      "138      Electronics\n",
      "142      Electronics\n",
      "192      Electronics\n",
      "            ...     \n",
      "15419    Electronics\n",
      "15522    Electronics\n",
      "15714    Electronics\n",
      "16421    Electronics\n",
      "17320    Electronics\n",
      "Name: Category, Length: 465, dtype: object\n",
      "22502\n",
      "48       Food\n",
      "112      Food\n",
      "126      Food\n",
      "161      Food\n",
      "354      Food\n",
      "         ... \n",
      "25017    Food\n",
      "25018    Food\n",
      "25042    Food\n",
      "25054    Food\n",
      "25055    Food\n",
      "Name: Category, Length: 375, dtype: object\n",
      "21137\n",
      "49       Food\n",
      "53       Food\n",
      "58       Food\n",
      "61       Food\n",
      "62       Food\n",
      "         ... \n",
      "24985    Food\n",
      "24989    Food\n",
      "25009    Food\n",
      "25034    Food\n",
      "25040    Food\n",
      "Name: Category, Length: 2036, dtype: object\n",
      "22423\n",
      "224      Disposables\n",
      "229      Disposables\n",
      "241      Disposables\n",
      "257      Disposables\n",
      "306      Disposables\n",
      "            ...     \n",
      "24918    Disposables\n",
      "24956    Disposables\n",
      "24964    Disposables\n",
      "25022    Disposables\n",
      "25038    Disposables\n",
      "Name: Category, Length: 1700, dtype: object\n",
      "47566\n",
      "1058     Electronics\n",
      "1074     Electronics\n",
      "1093     Electronics\n",
      "1098     Electronics\n",
      "1119     Electronics\n",
      "            ...     \n",
      "24987    Electronics\n",
      "24991    Electronics\n",
      "24993    Electronics\n",
      "25013    Electronics\n",
      "25032    Electronics\n",
      "Name: Category, Length: 1388, dtype: object\n",
      "22720\n",
      "7157     Supplements\n",
      "7165     Supplements\n",
      "7175     Supplements\n",
      "7182     Supplements\n",
      "7214     Supplements\n",
      "            ...     \n",
      "24912    Supplements\n",
      "24928    Supplements\n",
      "24934    Supplements\n",
      "24988    Supplements\n",
      "25028    Supplements\n",
      "Name: Category, Length: 732, dtype: object\n",
      "23284\n",
      "7386     Food\n",
      "7395     Food\n",
      "7404     Food\n",
      "7436     Food\n",
      "7440     Food\n",
      "         ... \n",
      "25008    Food\n",
      "25027    Food\n",
      "25035    Food\n",
      "25048    Food\n",
      "25056    Food\n",
      "Name: Category, Length: 1154, dtype: object\n",
      "23298\n",
      "7597     Grooming\n",
      "7606     Grooming\n",
      "7628     Grooming\n",
      "7640     Grooming\n",
      "7646     Grooming\n",
      "           ...   \n",
      "24867    Grooming\n",
      "24932    Grooming\n",
      "24938    Grooming\n",
      "24981    Grooming\n",
      "25016    Grooming\n",
      "Name: Category, Length: 1239, dtype: object\n",
      "23203\n",
      "7914     Food\n",
      "8017     Food\n",
      "8053     Food\n",
      "8061     Food\n",
      "8070     Food\n",
      "         ... \n",
      "25036    Food\n",
      "25041    Food\n",
      "25053    Food\n",
      "25060    Food\n",
      "25064    Food\n",
      "Name: Category, Length: 1003, dtype: object\n",
      "23084\n"
     ]
    }
   ],
   "source": [
    "# i added a new column to make an insight on\n",
    "cl_sales_info['Category'] = ' '\n",
    "for i in cl_sales_info['Stock Code'].unique():\n",
    "    category = products_info.loc[products_info['Stock Code'] == i,'Category']\n",
    "    cl_sales_info.loc[cl_sales_info['Stock Code'] == i, 'Category'] = category.iloc[0]\n",
    "    print(cl_sales_info.loc[cl_sales_info['Stock Code'] == i, 'Category'])\n",
    "    print(i)"
   ]
  },
  {
   "cell_type": "code",
   "execution_count": 602,
   "id": "6ac97c16",
   "metadata": {},
   "outputs": [],
   "source": [
    "products_info['Cost'] = products_info['Landed Cost'] + products_info['Shipping_Cost_1000_mile']"
   ]
  },
  {
   "cell_type": "code",
   "execution_count": 603,
   "id": "705eb444",
   "metadata": {},
   "outputs": [
    {
     "name": "stdout",
     "output_type": "stream",
     "text": [
      "       Unit Price  Cost  Profit\n",
      "0           15.30    11    4.30\n",
      "4           15.30    11    4.30\n",
      "6           15.30    11    4.30\n",
      "14          15.30    11    4.30\n",
      "20          15.30    11    4.30\n",
      "...           ...   ...     ...\n",
      "24975       34.74    11   23.74\n",
      "24994       15.30    11    4.30\n",
      "25007       17.70    11    6.70\n",
      "25020       34.74    11   23.74\n",
      "25050       17.70    11    6.70\n",
      "\n",
      "[2288 rows x 3 columns]\n",
      "       Unit Price  Cost  Profit\n",
      "1           10.14     8    2.14\n",
      "19          10.14     8    2.14\n",
      "22          10.14     8    2.14\n",
      "32          10.14     8    2.14\n",
      "40          10.14     8    2.14\n",
      "...           ...   ...     ...\n",
      "24822       10.14     8    2.14\n",
      "24852       18.72     8   10.72\n",
      "24941       10.14     8    2.14\n",
      "25025       18.72     8   10.72\n",
      "25063       10.14     8    2.14\n",
      "\n",
      "[1473 rows x 3 columns]\n",
      "       Unit Price  Cost  Profit\n",
      "2           25.50    20    5.50\n",
      "11          25.50    20    5.50\n",
      "16          22.50    20    2.50\n",
      "41          25.50    20    5.50\n",
      "46          25.50    20    5.50\n",
      "...           ...   ...     ...\n",
      "24969       25.50    20    5.50\n",
      "24983       49.74    20   29.74\n",
      "24992       25.50    20    5.50\n",
      "25029       49.74    20   29.74\n",
      "25049       49.74    20   29.74\n",
      "\n",
      "[1147 rows x 3 columns]\n"
     ]
    },
    {
     "name": "stderr",
     "output_type": "stream",
     "text": [
      "C:\\Users\\hp\\AppData\\Local\\Temp\\ipykernel_2696\\3960001928.py:7: FutureWarning: Setting an item of incompatible dtype is deprecated and will raise in a future error of pandas. Value '4.300000000000001' has dtype incompatible with int64, please explicitly cast to a compatible dtype first.\n",
      "  cl_sales_info.loc[(cl_sales_info['Stock Code'] == i) & (cl_sales_info['Unit Price'] == j), 'Profit'] = j-cost.iloc[0]\n"
     ]
    },
    {
     "name": "stdout",
     "output_type": "stream",
     "text": [
      "       Unit Price  Cost  Profit\n",
      "3           15.30    18   -2.70\n",
      "9           17.70    18   -0.30\n",
      "28          15.30    18   -2.70\n",
      "35          17.70    18   -0.30\n",
      "38          17.70    18   -0.30\n",
      "...           ...   ...     ...\n",
      "25010       17.70    18   -0.30\n",
      "25015       17.70    18   -0.30\n",
      "25021       34.74    18   16.74\n",
      "25045       34.74    18   16.74\n",
      "25057       17.70    18   -0.30\n",
      "\n",
      "[1176 rows x 3 columns]\n",
      "       Unit Price  Cost  Profit\n",
      "5           20.70    13    7.70\n",
      "21          23.70    13   10.70\n",
      "24          23.70    13   10.70\n",
      "31          23.70    13   10.70\n",
      "64          23.70    13   10.70\n",
      "...           ...   ...     ...\n",
      "24974       49.74    13   36.74\n",
      "25011       25.50    13   12.50\n",
      "25019       49.74    13   36.74\n",
      "25037       54.78    13   41.78\n",
      "25043       49.74    13   36.74\n",
      "\n",
      "[646 rows x 3 columns]\n",
      "       Unit Price  Cost  Profit\n",
      "7           11.70    14   -2.30\n",
      "44          11.70    14   -2.30\n",
      "73          11.70    14   -2.30\n",
      "100         11.70    14   -2.30\n",
      "105         25.26    14   11.26\n",
      "...           ...   ...     ...\n",
      "24815       12.48    14   -1.52\n",
      "24890       24.78    14   10.78\n",
      "24978       24.78    14   10.78\n",
      "25046       24.78    14   10.78\n",
      "25058       10.74    14   -3.26\n",
      "\n",
      "[1226 rows x 3 columns]\n",
      "       Unit Price  Cost  Profit\n",
      "8            9.90     9    0.90\n",
      "27           9.90     9    0.90\n",
      "36           9.90     9    0.90\n",
      "78          25.26     9   16.26\n",
      "94           8.70     9   -0.30\n",
      "...           ...   ...     ...\n",
      "24980       24.78     9   15.78\n",
      "24990        9.90     9    0.90\n",
      "25024       24.78     9   15.78\n",
      "25051        9.90     9    0.90\n",
      "25062        8.70     9   -0.30\n",
      "\n",
      "[1582 rows x 3 columns]\n",
      "       Unit Price  Cost  Profit\n",
      "10          38.70    37    1.70\n",
      "84          38.70    37    1.70\n",
      "165         38.70    37    1.70\n",
      "225         81.42    37   44.42\n",
      "242         81.42    37   44.42\n",
      "...           ...   ...     ...\n",
      "24907       47.70    37   10.70\n",
      "24979       99.78    37   62.78\n",
      "24997       28.80    37   -8.20\n",
      "24999       28.80    37   -8.20\n",
      "25023       99.78    37   62.78\n",
      "\n",
      "[686 rows x 3 columns]\n",
      "       Unit Price  Cost  Profit\n",
      "12           9.90     9    0.90\n",
      "15           9.90     9    0.90\n",
      "33          11.70     9    2.70\n",
      "42          11.70     9    2.70\n",
      "57          11.70     9    2.70\n",
      "...           ...   ...     ...\n",
      "24949       12.48     9    3.48\n",
      "24959       12.48     9    3.48\n",
      "24976       24.78     9   15.78\n",
      "25014       12.48     9    3.48\n",
      "25044       24.78     9   15.78\n",
      "\n",
      "[2110 rows x 3 columns]\n",
      "       Unit Price  Cost  Profit\n",
      "13          22.92    29   -6.08\n",
      "39          29.70    29    0.70\n",
      "79          61.02    29   32.02\n",
      "85          25.50    29   -3.50\n",
      "86          25.50    29   -3.50\n",
      "...           ...   ...     ...\n",
      "24953       34.50    29    5.50\n",
      "24958       34.50    29    5.50\n",
      "25026       74.76    29   45.76\n",
      "25047       74.76    29   45.76\n",
      "25061       34.50    29    5.50\n",
      "\n",
      "[666 rows x 3 columns]\n",
      "       Unit Price  Cost  Profit\n",
      "17           4.32     5   -0.68\n",
      "29           5.10     5    0.10\n",
      "34           5.10     5    0.10\n",
      "37           5.10     5    0.10\n",
      "47           5.10     5    0.10\n",
      "...           ...   ...     ...\n",
      "25012        4.32     5   -0.68\n",
      "25030        9.78     5    4.78\n",
      "25039       14.76     5    9.76\n",
      "25052        5.10     5    0.10\n",
      "25059        5.10     5    0.10\n",
      "\n",
      "[1413 rows x 3 columns]\n",
      "       Unit Price  Cost  Profit\n",
      "18           35.7    43    -7.3\n",
      "26           35.7    43    -7.3\n",
      "138          35.7    43    -7.3\n",
      "142          35.7    43    -7.3\n",
      "192          35.7    43    -7.3\n",
      "...           ...   ...     ...\n",
      "15419        35.7    43    -7.3\n",
      "15522        35.7    43    -7.3\n",
      "15714        35.7    43    -7.3\n",
      "16421        35.7    43    -7.3\n",
      "17320        12.0    43   -31.0\n",
      "\n",
      "[465 rows x 3 columns]\n",
      "       Unit Price  Cost  Profit\n",
      "48          20.34    21   -0.66\n",
      "112         20.34    21   -0.66\n",
      "126         20.34    21   -0.66\n",
      "161         22.50    21    1.50\n",
      "354         20.34    21   -0.66\n",
      "...           ...   ...     ...\n",
      "25017       20.34    21   -0.66\n",
      "25018       24.78    21    3.78\n",
      "25042       44.76    21   23.76\n",
      "25054       20.34    21   -0.66\n",
      "25055       20.34    21   -0.66\n",
      "\n",
      "[375 rows x 3 columns]\n",
      "       Unit Price  Cost  Profit\n",
      "49          65.70    55   10.70\n",
      "53          76.50    55   21.50\n",
      "58          76.50    55   21.50\n",
      "61          76.50    55   21.50\n",
      "62          76.50    55   21.50\n",
      "...           ...   ...     ...\n",
      "24985      149.76    55   94.76\n",
      "24989       76.50    55   21.50\n",
      "25009       76.50    55   21.50\n",
      "25034       76.50    55   21.50\n",
      "25040      149.76    55   94.76\n",
      "\n",
      "[2036 rows x 3 columns]\n",
      "       Unit Price  Cost  Profit\n",
      "224         55.92    30   25.92\n",
      "229         55.92    30   25.92\n",
      "241         50.82    30   20.82\n",
      "257         27.90    30   -2.10\n",
      "306         27.90    30   -2.10\n",
      "...           ...   ...     ...\n",
      "24918       29.70    30   -0.30\n",
      "24956       29.70    30   -0.30\n",
      "24964       29.70    30   -0.30\n",
      "25022       64.74    30   34.74\n",
      "25038       64.74    30   34.74\n",
      "\n",
      "[1700 rows x 3 columns]\n",
      "       Unit Price  Cost  Profit\n",
      "1058        29.70    25    4.70\n",
      "1074        29.70    25    4.70\n",
      "1093        29.70    25    4.70\n",
      "1098        29.70    25    4.70\n",
      "1119        25.50    25    0.50\n",
      "...           ...   ...     ...\n",
      "24987       64.74    25   39.74\n",
      "24991       29.70    25    4.70\n",
      "24993       29.70    25    4.70\n",
      "25013       25.50    25    0.50\n",
      "25032       64.74    25   39.74\n",
      "\n",
      "[1388 rows x 3 columns]\n",
      "       Unit Price  Cost  Profit\n",
      "7157        40.50    33    7.50\n",
      "7165        47.70    33   14.70\n",
      "7175        47.70    33   14.70\n",
      "7182        40.50    33    7.50\n",
      "7214        40.50    33    7.50\n",
      "...           ...   ...     ...\n",
      "24912       49.50    33   16.50\n",
      "24928       42.48    33    9.48\n",
      "24934       49.50    33   16.50\n",
      "24988       42.48    33    9.48\n",
      "25028       94.74    33   61.74\n",
      "\n",
      "[732 rows x 3 columns]\n",
      "       Unit Price  Cost  Profit\n",
      "7386        29.70    28    1.70\n",
      "7395        24.90    28   -3.10\n",
      "7404        29.70    28    1.70\n",
      "7436        29.70    28    1.70\n",
      "7440        29.70    28    1.70\n",
      "...           ...   ...     ...\n",
      "25008       29.70    28    1.70\n",
      "25027       64.74    28   36.74\n",
      "25035       29.70    28    1.70\n",
      "25048       64.74    28   36.74\n",
      "25056       29.70    28    1.70\n",
      "\n",
      "[1154 rows x 3 columns]\n",
      "       Unit Price  Cost  Profit\n",
      "7597        12.48    11    1.48\n",
      "7606        12.48    11    1.48\n",
      "7628        12.48    11    1.48\n",
      "7640        12.48    11    1.48\n",
      "7646        12.48    11    1.48\n",
      "...           ...   ...     ...\n",
      "24867       24.78    11   13.78\n",
      "24932       12.48    11    1.48\n",
      "24938       12.48    11    1.48\n",
      "24981       24.78    11   13.78\n",
      "25016       12.48    11    1.48\n",
      "\n",
      "[1239 rows x 3 columns]\n",
      "       Unit Price  Cost  Profit\n",
      "7914        12.48    12    0.48\n",
      "8017        12.48    12    0.48\n",
      "8053        10.74    12   -1.26\n",
      "8061        12.48    12    0.48\n",
      "8070        10.74    12   -1.26\n",
      "...           ...   ...     ...\n",
      "25036       12.48    12    0.48\n",
      "25041       29.76    12   17.76\n",
      "25053       12.48    12    0.48\n",
      "25060       10.74    12   -1.26\n",
      "25064       12.48    12    0.48\n",
      "\n",
      "[1003 rows x 3 columns]\n"
     ]
    },
    {
     "name": "stderr",
     "output_type": "stream",
     "text": [
      "C:\\Users\\hp\\AppData\\Local\\Temp\\ipykernel_2696\\3960001928.py:11: SettingWithCopyWarning: \n",
      "A value is trying to be set on a copy of a slice from a DataFrame\n",
      "\n",
      "See the caveats in the documentation: https://pandas.pydata.org/pandas-docs/stable/user_guide/indexing.html#returning-a-view-versus-a-copy\n",
      "  cl_sales_info['Total Profit'][cl_sales_info['Quantity'] > 0] = cl_sales_info['Profit'] * cl_sales_info['Quantity']\n",
      "C:\\Users\\hp\\AppData\\Local\\Temp\\ipykernel_2696\\3960001928.py:11: FutureWarning: Setting an item of incompatible dtype is deprecated and will raise in a future error of pandas. Value '[ 4.3  12.84  5.5  ... -2.1   6.42  0.96]' has dtype incompatible with int64, please explicitly cast to a compatible dtype first.\n",
      "  cl_sales_info['Total Profit'][cl_sales_info['Quantity'] > 0] = cl_sales_info['Profit'] * cl_sales_info['Quantity']\n"
     ]
    }
   ],
   "source": [
    "cl_sales_info['Profit'] = 0\n",
    "cl_sales_info['Cost'] = 0\n",
    "cl_sales_info['Total Profit'] = 0\n",
    "for i in cl_sales_info['Stock Code'].unique():\n",
    "    cost = products_info.loc[products_info['Stock Code'] == i,'Cost']\n",
    "    for j in cl_sales_info['Unit Price'][cl_sales_info['Stock Code'] == i].unique():\n",
    "        cl_sales_info.loc[(cl_sales_info['Stock Code'] == i) & (cl_sales_info['Unit Price'] == j), 'Profit'] = j-cost.iloc[0]\n",
    "        cl_sales_info.loc[(cl_sales_info['Stock Code'] == i) & (cl_sales_info['Unit Price'] == j), 'Cost'] = cost.iloc[0]\n",
    "\n",
    "    print(cl_sales_info.loc[cl_sales_info['Stock Code'] == i, ['Unit Price','Cost','Profit']])\n",
    "cl_sales_info['Total Profit'][cl_sales_info['Quantity'] > 0] = cl_sales_info['Profit'] * cl_sales_info['Quantity']\n",
    "cl_sales_info['Total Profit'][cl_sales_info['Quantity'] < 0] = cl_sales_info['Cost'] * cl_sales_info['Quantity']"
   ]
  },
  {
   "cell_type": "code",
   "execution_count": 604,
   "id": "e682bf47",
   "metadata": {},
   "outputs": [
    {
     "name": "stdout",
     "output_type": "stream",
     "text": [
      "['Wyoming' 'West Virginia' 'Wisconsin' 'Washington' 'Vermont' 'Virginia'\n",
      " 'VERMONT' 'Va.' 'Utah' 'Texas' 'Tennessee' 'South Carolina'\n",
      " 'South Dakota' 'Rhode Island' 'Alaska' 'Delaware' 'Pennsylvania' 'Pa.'\n",
      " 'Oregon' 'Oklahoma' 'Ohio' 'New York' 'Nevada' 'North Carolina'\n",
      " 'New Mexico' 'New Jersey' 'New Hampshire' 'Nebraska' 'North Dakota'\n",
      " 'N.Y.' 'N.C.' 'n.c.' 'Montana' 'Mississippi' 'Missouri' 'Minnesota'\n",
      " 'Michigan' 'Maine' 'Maryland' 'Massachusetts' 'Louisiana' 'KY.'\n",
      " 'Kentucky' 'Kansas' 'Iowa' 'Indiana' 'IN.' 'Illinois' 'IL.' 'Idaho'\n",
      " 'Hawaii' 'Georgia' 'Florida' 'District of Columbia' 'Connecticut'\n",
      " 'Colorado' 'California' 'Ca.' 'Az.' 'Arizona' 'Arkansas' 'Alabama']\n"
     ]
    }
   ],
   "source": [
    "for i in customers_info['Order State'].unique():\n",
    "    j = i.lower().replace('.', '')\n",
    "    u = state_region.loc[(state_region['Order State'].str.lower().replace('.','') == j), 'State']\n",
    "    if u.empty:\n",
    "        continue\n",
    "    customers_info.loc[(customers_info['Order State'].str.lower().replace('.','') == j) , 'Order State'] = u.iloc[0]\n",
    "print(customers_info['Order State'].unique()) "
   ]
  },
  {
   "cell_type": "code",
   "execution_count": 605,
   "id": "3a147ff7-24a8-4135-9bed-5b23549bcad5",
   "metadata": {},
   "outputs": [
    {
     "name": "stdout",
     "output_type": "stream",
     "text": [
      "<class 'pandas.core.frame.DataFrame'>\n",
      "Index: 24505 entries, 0 to 25064\n",
      "Data columns (total 13 columns):\n",
      " #   Column            Non-Null Count  Dtype         \n",
      "---  ------            --------------  -----         \n",
      " 0   Transaction Date  24505 non-null  datetime64[ns]\n",
      " 1   Customer ID       20151 non-null  float64       \n",
      " 2   Description       24505 non-null  object        \n",
      " 3   Stock Code        24505 non-null  object        \n",
      " 4   Invoice No        24341 non-null  float64       \n",
      " 5   Quantity          24505 non-null  int64         \n",
      " 6   Sales             24505 non-null  float64       \n",
      " 7   Unit Price        24505 non-null  float64       \n",
      " 8   Date              24505 non-null  object        \n",
      " 9   Category          24505 non-null  object        \n",
      " 10  Profit            24505 non-null  float64       \n",
      " 11  Cost              24505 non-null  int64         \n",
      " 12  Total Profit      24505 non-null  float64       \n",
      "dtypes: datetime64[ns](1), float64(6), int64(2), object(4)\n",
      "memory usage: 3.1+ MB\n"
     ]
    }
   ],
   "source": [
    "cl_sales_info.info()"
   ]
  },
  {
   "cell_type": "code",
   "execution_count": 606,
   "id": "87d900a6-4cd9-4e1a-b5f3-aeab0e4724a7",
   "metadata": {},
   "outputs": [
    {
     "name": "stderr",
     "output_type": "stream",
     "text": [
      "c:\\Users\\hp\\AppData\\Local\\Programs\\Python\\Python311\\Lib\\site-packages\\seaborn\\_oldcore.py:1498: FutureWarning: is_categorical_dtype is deprecated and will be removed in a future version. Use isinstance(dtype, CategoricalDtype) instead\n",
      "  if pd.api.types.is_categorical_dtype(vector):\n",
      "c:\\Users\\hp\\AppData\\Local\\Programs\\Python\\Python311\\Lib\\site-packages\\seaborn\\_oldcore.py:1498: FutureWarning: is_categorical_dtype is deprecated and will be removed in a future version. Use isinstance(dtype, CategoricalDtype) instead\n",
      "  if pd.api.types.is_categorical_dtype(vector):\n",
      "c:\\Users\\hp\\AppData\\Local\\Programs\\Python\\Python311\\Lib\\site-packages\\seaborn\\_oldcore.py:1498: FutureWarning: is_categorical_dtype is deprecated and will be removed in a future version. Use isinstance(dtype, CategoricalDtype) instead\n",
      "  if pd.api.types.is_categorical_dtype(vector):\n",
      "c:\\Users\\hp\\AppData\\Local\\Programs\\Python\\Python311\\Lib\\site-packages\\seaborn\\_oldcore.py:1498: FutureWarning: is_categorical_dtype is deprecated and will be removed in a future version. Use isinstance(dtype, CategoricalDtype) instead\n",
      "  if pd.api.types.is_categorical_dtype(vector):\n"
     ]
    },
    {
     "data": {
      "text/plain": [
       "<Axes: >"
      ]
     },
     "execution_count": 606,
     "metadata": {},
     "output_type": "execute_result"
    },
    {
     "data": {
      "image/png": "[encoded data removed]",
      "text/plain": [
       "<Figure size 640x480 with 1 Axes>"
      ]
     },
     "metadata": {},
     "output_type": "display_data"
    }
   ],
   "source": [
    "sns.boxplot(cl_sales_info[['Customer ID', 'Quantity', 'Sales', 'Unit Price']])"
   ]
  },
  {
   "cell_type": "code",
   "execution_count": 607,
   "id": "acbda557-2cd4-4eaa-a4dc-694decc76376",
   "metadata": {},
   "outputs": [
    {
     "data": {
      "text/html": [
       "<div>\n",
       "<style scoped>\n",
       "    .dataframe tbody tr th:only-of-type {\n",
       "        vertical-align: middle;\n",
       "    }\n",
       "\n",
       "    .dataframe tbody tr th {\n",
       "        vertical-align: top;\n",
       "    }\n",
       "\n",
       "    .dataframe thead th {\n",
       "        text-align: right;\n",
       "    }\n",
       "</style>\n",
       "<table border=\"1\" class=\"dataframe\">\n",
       "  <thead>\n",
       "    <tr style=\"text-align: right;\">\n",
       "      <th></th>\n",
       "      <th>Transaction Date</th>\n",
       "      <th>Customer ID</th>\n",
       "      <th>Invoice No</th>\n",
       "      <th>Quantity</th>\n",
       "      <th>Sales</th>\n",
       "      <th>Unit Price</th>\n",
       "      <th>Profit</th>\n",
       "      <th>Cost</th>\n",
       "      <th>Total Profit</th>\n",
       "    </tr>\n",
       "  </thead>\n",
       "  <tbody>\n",
       "    <tr>\n",
       "      <th>count</th>\n",
       "      <td>24505</td>\n",
       "      <td>20151.000000</td>\n",
       "      <td>24341.000000</td>\n",
       "      <td>24505.000000</td>\n",
       "      <td>24505.000000</td>\n",
       "      <td>24505.000000</td>\n",
       "      <td>24505.000000</td>\n",
       "      <td>24505.000000</td>\n",
       "      <td>24505.000000</td>\n",
       "    </tr>\n",
       "    <tr>\n",
       "      <th>mean</th>\n",
       "      <td>2021-07-05 19:16:08.138747136</td>\n",
       "      <td>15294.593668</td>\n",
       "      <td>559963.828684</td>\n",
       "      <td>3.022526</td>\n",
       "      <td>60.746315</td>\n",
       "      <td>28.388254</td>\n",
       "      <td>8.013065</td>\n",
       "      <td>20.375189</td>\n",
       "      <td>11.605203</td>\n",
       "    </tr>\n",
       "    <tr>\n",
       "      <th>min</th>\n",
       "      <td>2020-12-01 08:26:00</td>\n",
       "      <td>12347.000000</td>\n",
       "      <td>536365.000000</td>\n",
       "      <td>-321.000000</td>\n",
       "      <td>-4911.300000</td>\n",
       "      <td>4.320000</td>\n",
       "      <td>-31.000000</td>\n",
       "      <td>5.000000</td>\n",
       "      <td>-3531.000000</td>\n",
       "    </tr>\n",
       "    <tr>\n",
       "      <th>25%</th>\n",
       "      <td>2021-04-10 15:19:00</td>\n",
       "      <td>13908.000000</td>\n",
       "      <td>549574.000000</td>\n",
       "      <td>1.000000</td>\n",
       "      <td>20.400000</td>\n",
       "      <td>12.480000</td>\n",
       "      <td>0.700000</td>\n",
       "      <td>9.000000</td>\n",
       "      <td>0.900000</td>\n",
       "    </tr>\n",
       "    <tr>\n",
       "      <th>50%</th>\n",
       "      <td>2021-07-17 10:53:00</td>\n",
       "      <td>15159.000000</td>\n",
       "      <td>560225.000000</td>\n",
       "      <td>1.000000</td>\n",
       "      <td>29.700000</td>\n",
       "      <td>22.500000</td>\n",
       "      <td>3.480000</td>\n",
       "      <td>14.000000</td>\n",
       "      <td>5.500000</td>\n",
       "    </tr>\n",
       "    <tr>\n",
       "      <th>75%</th>\n",
       "      <td>2021-10-12 16:36:00</td>\n",
       "      <td>16764.000000</td>\n",
       "      <td>570872.000000</td>\n",
       "      <td>2.000000</td>\n",
       "      <td>59.400000</td>\n",
       "      <td>29.700000</td>\n",
       "      <td>10.700000</td>\n",
       "      <td>29.000000</td>\n",
       "      <td>15.780000</td>\n",
       "    </tr>\n",
       "    <tr>\n",
       "      <th>max</th>\n",
       "      <td>2021-12-09 12:31:00</td>\n",
       "      <td>18287.000000</td>\n",
       "      <td>581585.000000</td>\n",
       "      <td>717.000000</td>\n",
       "      <td>4992.000000</td>\n",
       "      <td>192.240000</td>\n",
       "      <td>137.240000</td>\n",
       "      <td>55.000000</td>\n",
       "      <td>2725.500000</td>\n",
       "    </tr>\n",
       "    <tr>\n",
       "      <th>std</th>\n",
       "      <td>NaN</td>\n",
       "      <td>1689.954985</td>\n",
       "      <td>12758.790544</td>\n",
       "      <td>11.214514</td>\n",
       "      <td>152.084208</td>\n",
       "      <td>23.457251</td>\n",
       "      <td>13.763260</td>\n",
       "      <td>13.993925</td>\n",
       "      <td>59.858345</td>\n",
       "    </tr>\n",
       "  </tbody>\n",
       "</table>\n",
       "</div>"
      ],
      "text/plain": [
       "                    Transaction Date   Customer ID     Invoice No  \\\n",
       "count                          24505  20151.000000   24341.000000   \n",
       "mean   2021-07-05 19:16:08.138747136  15294.593668  559963.828684   \n",
       "min              2020-12-01 08:26:00  12347.000000  536365.000000   \n",
       "25%              2021-04-10 15:19:00  13908.000000  549574.000000   \n",
       "50%              2021-07-17 10:53:00  15159.000000  560225.000000   \n",
       "75%              2021-10-12 16:36:00  16764.000000  570872.000000   \n",
       "max              2021-12-09 12:31:00  18287.000000  581585.000000   \n",
       "std                              NaN   1689.954985   12758.790544   \n",
       "\n",
       "           Quantity         Sales    Unit Price        Profit          Cost  \\\n",
       "count  24505.000000  24505.000000  24505.000000  24505.000000  24505.000000   \n",
       "mean       3.022526     60.746315     28.388254      8.013065     20.375189   \n",
       "min     -321.000000  -4911.300000      4.320000    -31.000000      5.000000   \n",
       "25%        1.000000     20.400000     12.480000      0.700000      9.000000   \n",
       "50%        1.000000     29.700000     22.500000      3.480000     14.000000   \n",
       "75%        2.000000     59.400000     29.700000     10.700000     29.000000   \n",
       "max      717.000000   4992.000000    192.240000    137.240000     55.000000   \n",
       "std       11.214514    152.084208     23.457251     13.763260     13.993925   \n",
       "\n",
       "       Total Profit  \n",
       "count  24505.000000  \n",
       "mean      11.605203  \n",
       "min    -3531.000000  \n",
       "25%        0.900000  \n",
       "50%        5.500000  \n",
       "75%       15.780000  \n",
       "max     2725.500000  \n",
       "std       59.858345  "
      ]
     },
     "execution_count": 607,
     "metadata": {},
     "output_type": "execute_result"
    }
   ],
   "source": [
    "cl_sales_info.describe()"
   ]
  },
  {
   "cell_type": "code",
   "execution_count": 608,
   "id": "35c1cf5d",
   "metadata": {},
   "outputs": [
    {
     "data": {
      "text/plain": [
       "-4911.3"
      ]
     },
     "execution_count": 608,
     "metadata": {},
     "output_type": "execute_result"
    }
   ],
   "source": [
    "cl_sales_info['Sales'].min()"
   ]
  },
  {
   "cell_type": "markdown",
   "id": "86039233",
   "metadata": {},
   "source": [
    "<h1>Simple Visualizations</h1>"
   ]
  },
  {
   "cell_type": "code",
   "execution_count": 609,
   "id": "7775ee2b-f052-439f-9648-315d2b0c9858",
   "metadata": {},
   "outputs": [
    {
     "name": "stderr",
     "output_type": "stream",
     "text": [
      "c:\\Users\\hp\\AppData\\Local\\Programs\\Python\\Python311\\Lib\\site-packages\\seaborn\\_oldcore.py:1498: FutureWarning: is_categorical_dtype is deprecated and will be removed in a future version. Use isinstance(dtype, CategoricalDtype) instead\n",
      "  if pd.api.types.is_categorical_dtype(vector):\n",
      "c:\\Users\\hp\\AppData\\Local\\Programs\\Python\\Python311\\Lib\\site-packages\\seaborn\\_oldcore.py:1498: FutureWarning: is_categorical_dtype is deprecated and will be removed in a future version. Use isinstance(dtype, CategoricalDtype) instead\n",
      "  if pd.api.types.is_categorical_dtype(vector):\n",
      "c:\\Users\\hp\\AppData\\Local\\Programs\\Python\\Python311\\Lib\\site-packages\\seaborn\\_oldcore.py:1498: FutureWarning: is_categorical_dtype is deprecated and will be removed in a future version. Use isinstance(dtype, CategoricalDtype) instead\n",
      "  if pd.api.types.is_categorical_dtype(vector):\n",
      "c:\\Users\\hp\\AppData\\Local\\Programs\\Python\\Python311\\Lib\\site-packages\\seaborn\\_oldcore.py:1119: FutureWarning: use_inf_as_na option is deprecated and will be removed in a future version. Convert inf values to NaN before operating instead.\n",
      "  with pd.option_context('mode.use_inf_as_na', True):\n",
      "c:\\Users\\hp\\AppData\\Local\\Programs\\Python\\Python311\\Lib\\site-packages\\seaborn\\_oldcore.py:1119: FutureWarning: use_inf_as_na option is deprecated and will be removed in a future version. Convert inf values to NaN before operating instead.\n",
      "  with pd.option_context('mode.use_inf_as_na', True):\n"
     ]
    },
    {
     "data": {
      "image/png": "[encoded data removed]",
      "text/plain": [
       "<Figure size 640x480 with 1 Axes>"
      ]
     },
     "metadata": {},
     "output_type": "display_data"
    }
   ],
   "source": [
    "# we can conclude from the graph that the most amount of sales happened from november and december\n",
    "by_date1 = cl_sales_info.groupby(['Date'], as_index=False)['Sales'].sum()\n",
    "sns.lineplot(x='Date', y='Sales', data=by_date2)\n",
    "plt.xticks(rotation=90)\n",
    "plt.show()"
   ]
  },
  {
   "cell_type": "code",
   "execution_count": 610,
   "id": "8081aff3-6345-431a-a08c-6a8d4aa95b86",
   "metadata": {},
   "outputs": [
    {
     "data": {
      "image/png": "[encoded data removed]",
      "text/plain": [
       "<Figure size 640x480 with 1 Axes>"
      ]
     },
     "metadata": {},
     "output_type": "display_data"
    },
    {
     "name": "stdout",
     "output_type": "stream",
     "text": [
      "                                Description Category\n",
      "9  Sheba Perfect Portions Paté Wet Cat Food     Food\n"
     ]
    }
   ],
   "source": [
    "# the most ordered item was 22197\n",
    "by_product = cl_sales_info.groupby('Stock Code')\n",
    "sum_of_sales = by_product['Quantity'].sum()\n",
    "plt.bar(x=sum_of_sales.index, height=sum_of_sales)\n",
    "plt.xticks(rotation=90)\n",
    "plt.title('How many times an item was ordered')\n",
    "plt.xlabel('Item code')\n",
    "plt.ylabel('Number of ordered item')\n",
    "plt.show()\n",
    "print(products_info[['Description', 'Category']][products_info['Stock Code'] == sum_of_sales.sort_values().index[-1]])"
   ]
  },
  {
   "cell_type": "code",
   "execution_count": 611,
   "id": "04969b01-2d78-418d-b115-ef1da23f156f",
   "metadata": {},
   "outputs": [
    {
     "name": "stderr",
     "output_type": "stream",
     "text": [
      "c:\\Users\\hp\\AppData\\Local\\Programs\\Python\\Python311\\Lib\\site-packages\\seaborn\\_oldcore.py:1498: FutureWarning: is_categorical_dtype is deprecated and will be removed in a future version. Use isinstance(dtype, CategoricalDtype) instead\n",
      "  if pd.api.types.is_categorical_dtype(vector):\n",
      "c:\\Users\\hp\\AppData\\Local\\Programs\\Python\\Python311\\Lib\\site-packages\\seaborn\\_oldcore.py:1498: FutureWarning: is_categorical_dtype is deprecated and will be removed in a future version. Use isinstance(dtype, CategoricalDtype) instead\n",
      "  if pd.api.types.is_categorical_dtype(vector):\n",
      "c:\\Users\\hp\\AppData\\Local\\Programs\\Python\\Python311\\Lib\\site-packages\\seaborn\\_oldcore.py:1498: FutureWarning: is_categorical_dtype is deprecated and will be removed in a future version. Use isinstance(dtype, CategoricalDtype) instead\n",
      "  if pd.api.types.is_categorical_dtype(vector):\n"
     ]
    },
    {
     "data": {
      "image/png": "[encoded data removed]",
      "text/plain": [
       "<Figure size 640x480 with 1 Axes>"
      ]
     },
     "metadata": {},
     "output_type": "display_data"
    }
   ],
   "source": [
    "# the most ordered category is disposable\n",
    "by_product = cl_sales_info.groupby('Category', as_index=False)\n",
    "sum_of_sales = by_product['Quantity'].sum()\n",
    "sns.barplot(x='Category', y='Quantity', data=sum_of_sales).set_title('How many times a Category was ordered')\n",
    "plt.xticks(rotation=90)\n",
    "plt.show()"
   ]
  },
  {
   "cell_type": "code",
   "execution_count": 612,
   "id": "93b1892f-cd56-4628-9b4f-2059d2c1ddf9",
   "metadata": {},
   "outputs": [
    {
     "data": {
      "image/png": "[encoded data removed]",
      "text/plain": [
       "<Figure size 640x480 with 1 Axes>"
      ]
     },
     "metadata": {},
     "output_type": "display_data"
    },
    {
     "name": "stdout",
     "output_type": "stream",
     "text": [
      "                                         Description Category\n",
      "0  Taste of the Wild High Prairie Grain-Free Dry ...     Food\n"
     ]
    }
   ],
   "source": [
    "# the most item with sales is 22423\n",
    "by_product = cl_sales_info.groupby('Stock Code')\n",
    "sum_of_sales = by_product['Sales'].sum()\n",
    "plt.bar(x=sum_of_sales.index, height=sum_of_sales)\n",
    "plt.xticks(rotation=90)\n",
    "plt.title('How much sales has an item got')\n",
    "plt.xlabel('Item code')\n",
    "plt.ylabel('Sales')\n",
    "plt.show()\n",
    "print(products_info[['Description', 'Category']][products_info['Stock Code'] == sum_of_sales.sort_values().index[-1]])"
   ]
  },
  {
   "cell_type": "code",
   "execution_count": 613,
   "id": "5a761919-c06d-4ff8-83ac-e1ae0b32a884",
   "metadata": {},
   "outputs": [
    {
     "name": "stderr",
     "output_type": "stream",
     "text": [
      "c:\\Users\\hp\\AppData\\Local\\Programs\\Python\\Python311\\Lib\\site-packages\\seaborn\\_oldcore.py:1498: FutureWarning: is_categorical_dtype is deprecated and will be removed in a future version. Use isinstance(dtype, CategoricalDtype) instead\n",
      "  if pd.api.types.is_categorical_dtype(vector):\n",
      "c:\\Users\\hp\\AppData\\Local\\Programs\\Python\\Python311\\Lib\\site-packages\\seaborn\\_oldcore.py:1498: FutureWarning: is_categorical_dtype is deprecated and will be removed in a future version. Use isinstance(dtype, CategoricalDtype) instead\n",
      "  if pd.api.types.is_categorical_dtype(vector):\n",
      "c:\\Users\\hp\\AppData\\Local\\Programs\\Python\\Python311\\Lib\\site-packages\\seaborn\\_oldcore.py:1498: FutureWarning: is_categorical_dtype is deprecated and will be removed in a future version. Use isinstance(dtype, CategoricalDtype) instead\n",
      "  if pd.api.types.is_categorical_dtype(vector):\n"
     ]
    },
    {
     "data": {
      "image/png": "[encoded data removed]",
      "text/plain": [
       "<Figure size 640x480 with 1 Axes>"
      ]
     },
     "metadata": {},
     "output_type": "display_data"
    }
   ],
   "source": [
    "by_product = cl_sales_info.groupby('Category', as_index=False)\n",
    "sum_of_sales = by_product['Sales'].sum()\n",
    "sns.barplot(x='Category', y='Sales', data=sum_of_sales).set_title('How much sales has a category got')\n",
    "plt.xticks(rotation=90)\n",
    "plt.show()"
   ]
  },
  {
   "cell_type": "code",
   "execution_count": 614,
   "id": "08773038-89a8-4e32-9a82-7fe104c2209a",
   "metadata": {},
   "outputs": [
    {
     "data": {
      "text/plain": [
       "<Axes: >"
      ]
     },
     "execution_count": 614,
     "metadata": {},
     "output_type": "execute_result"
    },
    {
     "data": {
      "image/png": "[encoded data removed]",
      "text/plain": [
       "<Figure size 640x480 with 1 Axes>"
      ]
     },
     "metadata": {},
     "output_type": "display_data"
    }
   ],
   "source": [
    "sns.boxplot(cl_sales_info['Sales'])"
   ]
  },
  {
   "cell_type": "code",
   "execution_count": 615,
   "id": "c5c0b128",
   "metadata": {},
   "outputs": [],
   "source": [
    "# l=cl_sales_info.loc[cl_sales_info['Customer Type'] == 'Merchant', 'Sales'].reset_index()\n",
    "# print(l)\n",
    "# sns.boxplot(l['Sales'])"
   ]
  },
  {
   "cell_type": "code",
   "execution_count": 616,
   "id": "f5ac60af",
   "metadata": {},
   "outputs": [
    {
     "name": "stdout",
     "output_type": "stream",
     "text": [
      "11375\n",
      "10841\n",
      "534\n",
      "1249\n",
      "136\n",
      "[16029. 17511. 16210. 13777.    nan 15061. 13798. 15838. 18102. 15032.\n",
      " 18144. 17230. 13093. 16985. 16013. 12931. 13629. 16532. 17949. 12415.\n",
      " 13458. 13680. 14680. 14258. 15769. 17450. 15640. 15749. 14646. 14156.\n",
      " 16401. 15497. 12744. 13694. 12731. 13408. 13802. 14233. 12753. 15856.\n",
      " 13089. 14935. 13001. 16182. 15311. 16709. 13881. 15502. 15513. 15125.\n",
      " 14226. 15301. 13081. 16525. 14298. 12678. 13525. 13098. 13265. 16705.\n",
      " 17029. 14031. 14655. 17677. 16684. 13135. 17133. 12409. 16209. 17581.\n",
      " 12980. 17723. 12798. 16180. 16671. 17017. 14235. 15812. 14088. 13225.\n",
      " 14911. 13340. 17353. 15046. 14844. 14566. 13078. 14057. 16083. 13384.\n",
      " 16160. 17428. 15947. 14961. 15341. 14866. 14887. 15194. 15218. 17389.\n",
      " 13321. 17930. 16333. 13269. 17754. 16432. 12939. 13689. 16563. 15971.\n",
      " 14607. 12921. 14482. 13102. 16107. 16079. 18223. 12682. 12490. 12431.\n",
      " 16168. 16986. 13319. 15482. 13767. 14096. 15514. 16717. 15465. 18139.\n",
      " 17671. 15793. 12681. 14554. 14367. 17567.]\n"
     ]
    },
    {
     "data": {
      "image/png": "[encoded data removed]",
      "text/plain": [
       "<Figure size 640x480 with 1 Axes>"
      ]
     },
     "metadata": {},
     "output_type": "display_data"
    }
   ],
   "source": [
    "group = cl_sales_info.groupby('Invoice No')['Quantity'].sum().sort_index().reset_index()\n",
    "i = 22\n",
    "print(len(group))\n",
    "sns.boxplot(group['Quantity'][group['Quantity'] < i])\n",
    "print(len(group['Quantity'][group['Quantity'] < i]))\n",
    "print(len(group['Quantity'][group['Quantity'] >= i]))\n",
    "\n",
    "print(len(group['Quantity'][(group['Quantity'] < i) & (group['Quantity'] > 8)]))\n",
    "customer = cl_sales_info['Customer ID'][cl_sales_info['Invoice No'].isin(group['Invoice No'][group['Quantity'] > i])].unique()\n",
    "print(len(customer))\n",
    "print(customer)"
   ]
  },
  {
   "cell_type": "code",
   "execution_count": 617,
   "id": "ee53e089",
   "metadata": {},
   "outputs": [
    {
     "name": "stderr",
     "output_type": "stream",
     "text": [
      "c:\\Users\\hp\\AppData\\Local\\Programs\\Python\\Python311\\Lib\\site-packages\\seaborn\\_oldcore.py:1498: FutureWarning: is_categorical_dtype is deprecated and will be removed in a future version. Use isinstance(dtype, CategoricalDtype) instead\n",
      "  if pd.api.types.is_categorical_dtype(vector):\n",
      "c:\\Users\\hp\\AppData\\Local\\Programs\\Python\\Python311\\Lib\\site-packages\\seaborn\\_oldcore.py:1119: FutureWarning: use_inf_as_na option is deprecated and will be removed in a future version. Convert inf values to NaN before operating instead.\n",
      "  with pd.option_context('mode.use_inf_as_na', True):\n"
     ]
    },
    {
     "data": {
      "text/plain": [
       "<Axes: xlabel='Quantity', ylabel='Count'>"
      ]
     },
     "execution_count": 617,
     "metadata": {},
     "output_type": "execute_result"
    },
    {
     "data": {
      "image/png": "[encoded data removed]",
      "text/plain": [
       "<Figure size 640x480 with 1 Axes>"
      ]
     },
     "metadata": {},
     "output_type": "display_data"
    }
   ],
   "source": [
    "sns.histplot(group['Quantity'][group['Quantity'] >= i].reset_index()['Quantity'])\n"
   ]
  },
  {
   "cell_type": "code",
   "execution_count": 619,
   "id": "053f9b1c",
   "metadata": {},
   "outputs": [
    {
     "name": "stderr",
     "output_type": "stream",
     "text": [
      "c:\\Users\\hp\\AppData\\Local\\Programs\\Python\\Python311\\Lib\\site-packages\\seaborn\\_oldcore.py:1498: FutureWarning: is_categorical_dtype is deprecated and will be removed in a future version. Use isinstance(dtype, CategoricalDtype) instead\n",
      "  if pd.api.types.is_categorical_dtype(vector):\n",
      "c:\\Users\\hp\\AppData\\Local\\Programs\\Python\\Python311\\Lib\\site-packages\\seaborn\\_oldcore.py:1119: FutureWarning: use_inf_as_na option is deprecated and will be removed in a future version. Convert inf values to NaN before operating instead.\n",
      "  with pd.option_context('mode.use_inf_as_na', True):\n"
     ]
    },
    {
     "data": {
      "text/plain": [
       "<Axes: xlabel='Quantity', ylabel='Count'>"
      ]
     },
     "execution_count": 619,
     "metadata": {},
     "output_type": "execute_result"
    },
    {
     "data": {
      "image/png": "[encoded data removed]",
      "text/plain": [
       "<Figure size 640x480 with 1 Axes>"
      ]
     },
     "metadata": {},
     "output_type": "display_data"
    }
   ],
   "source": [
    "sns.histplot(group['Quantity'][group['Quantity'] < i].reset_index()['Quantity'])\n"
   ]
  },
  {
   "cell_type": "markdown",
   "id": "af931776",
   "metadata": {},
   "source": [
    "<h1>Exporting data</h1>"
   ]
  },
  {
   "cell_type": "code",
   "execution_count": 618,
   "id": "e44c3ee4",
   "metadata": {},
   "outputs": [],
   "source": [
    "cl_sales_info.to_csv(\"Cleaned Data.csv\", index=False)\n",
    "products_info.to_csv(\"Products Info.csv\", index=False)"
   ]
  }
 ],
 "metadata": {
  "kernelspec": {
   "display_name": "Python 3 (ipykernel)",
   "language": "python",
   "name": "python3"
  },
  "language_info": {
   "codemirror_mode": {
    "name": "ipython",
    "version": 3
   },
   "file_extension": ".py",
   "mimetype": "text/x-python",
   "name": "python",
   "nbconvert_exporter": "python",
   "pygments_lexer": "ipython3",
   "version": "3.11.4"
  }
 },
 "nbformat": 4,
 "nbformat_minor": 5
}
